{
  "nbformat": 4,
  "nbformat_minor": 0,
  "metadata": {
    "colab": {
      "provenance": [],
      "authorship_tag": "ABX9TyMXkWDsNzLAYsCiTPtFci6L",
      "include_colab_link": true
    },
    "kernelspec": {
      "name": "python3",
      "display_name": "Python 3"
    },
    "language_info": {
      "name": "python"
    }
  },
  "cells": [
    {
      "cell_type": "markdown",
      "metadata": {
        "id": "view-in-github",
        "colab_type": "text"
      },
      "source": [
        "<a href=\"https://colab.research.google.com/github/JairsonAlbertoSami/desafio-junior-data-scientis/blob/main/Analise_python.ipynb\" target=\"_parent\"><img src=\"https://colab.research.google.com/assets/colab-badge.svg\" alt=\"Open In Colab\"/></a>"
      ]
    },
    {
      "cell_type": "markdown",
      "source": [
        "# Desafio Técnico - Cientista de Dados Júnior - Rio de Janeiro\n",
        "\n",
        "Este código foi desenvolvido como parte do desafio técnico para a posição de **Cientista de Dados Júnior** no **Rio de Janeiro**. O objetivo deste desafio é demonstrar habilidades em manipulação e análise de dados com python\n"
      ],
      "metadata": {
        "id": "_aO2Z54SwMHo"
      }
    },
    {
      "cell_type": "code",
      "execution_count": 76,
      "metadata": {
        "colab": {
          "base_uri": "https://localhost:8080/"
        },
        "id": "f8ODNphdv0HA",
        "outputId": "e72137a8-5ce4-4afc-e087-34f890fe6c4d"
      },
      "outputs": [
        {
          "output_type": "stream",
          "name": "stdout",
          "text": [
            "Requirement already satisfied: google-cloud-bigquery in /usr/local/lib/python3.10/dist-packages (2.30.1)\n",
            "Requirement already satisfied: grpcio<2.0dev,>=1.38.1 in /usr/local/lib/python3.10/dist-packages (from google-cloud-bigquery) (1.64.1)\n",
            "Requirement already satisfied: google-api-core<3.0.0dev,>=1.29.0 in /usr/local/lib/python3.10/dist-packages (from google-api-core[grpc]<3.0.0dev,>=1.29.0->google-cloud-bigquery) (1.34.1)\n",
            "Requirement already satisfied: proto-plus>=1.10.0 in /usr/local/lib/python3.10/dist-packages (from google-cloud-bigquery) (1.24.0)\n",
            "Requirement already satisfied: google-cloud-core<3.0.0dev,>=1.4.1 in /usr/local/lib/python3.10/dist-packages (from google-cloud-bigquery) (2.4.1)\n",
            "Requirement already satisfied: google-resumable-media<3.0dev,>=0.6.0 in /usr/local/lib/python3.10/dist-packages (from google-cloud-bigquery) (2.7.2)\n",
            "Requirement already satisfied: packaging>=14.3 in /usr/local/lib/python3.10/dist-packages (from google-cloud-bigquery) (24.1)\n",
            "Requirement already satisfied: protobuf>=3.12.0 in /usr/local/lib/python3.10/dist-packages (from google-cloud-bigquery) (3.20.3)\n",
            "Requirement already satisfied: python-dateutil<3.0dev,>=2.7.2 in /usr/local/lib/python3.10/dist-packages (from google-cloud-bigquery) (2.8.2)\n",
            "Requirement already satisfied: requests<3.0.0dev,>=2.18.0 in /usr/local/lib/python3.10/dist-packages (from google-cloud-bigquery) (2.32.3)\n",
            "Requirement already satisfied: googleapis-common-protos<2.0dev,>=1.56.2 in /usr/local/lib/python3.10/dist-packages (from google-api-core<3.0.0dev,>=1.29.0->google-api-core[grpc]<3.0.0dev,>=1.29.0->google-cloud-bigquery) (1.63.2)\n",
            "Requirement already satisfied: google-auth<3.0dev,>=1.25.0 in /usr/local/lib/python3.10/dist-packages (from google-api-core<3.0.0dev,>=1.29.0->google-api-core[grpc]<3.0.0dev,>=1.29.0->google-cloud-bigquery) (2.27.0)\n",
            "Requirement already satisfied: grpcio-status<2.0dev,>=1.33.2 in /usr/local/lib/python3.10/dist-packages (from google-api-core[grpc]<3.0.0dev,>=1.29.0->google-cloud-bigquery) (1.48.2)\n",
            "Requirement already satisfied: google-crc32c<2.0dev,>=1.0 in /usr/local/lib/python3.10/dist-packages (from google-resumable-media<3.0dev,>=0.6.0->google-cloud-bigquery) (1.5.0)\n",
            "Requirement already satisfied: six>=1.5 in /usr/local/lib/python3.10/dist-packages (from python-dateutil<3.0dev,>=2.7.2->google-cloud-bigquery) (1.16.0)\n",
            "Requirement already satisfied: charset-normalizer<4,>=2 in /usr/local/lib/python3.10/dist-packages (from requests<3.0.0dev,>=2.18.0->google-cloud-bigquery) (3.3.2)\n",
            "Requirement already satisfied: idna<4,>=2.5 in /usr/local/lib/python3.10/dist-packages (from requests<3.0.0dev,>=2.18.0->google-cloud-bigquery) (3.7)\n",
            "Requirement already satisfied: urllib3<3,>=1.21.1 in /usr/local/lib/python3.10/dist-packages (from requests<3.0.0dev,>=2.18.0->google-cloud-bigquery) (2.0.7)\n",
            "Requirement already satisfied: certifi>=2017.4.17 in /usr/local/lib/python3.10/dist-packages (from requests<3.0.0dev,>=2.18.0->google-cloud-bigquery) (2024.7.4)\n",
            "Requirement already satisfied: cachetools<6.0,>=2.0.0 in /usr/local/lib/python3.10/dist-packages (from google-auth<3.0dev,>=1.25.0->google-api-core<3.0.0dev,>=1.29.0->google-api-core[grpc]<3.0.0dev,>=1.29.0->google-cloud-bigquery) (5.5.0)\n",
            "Requirement already satisfied: pyasn1-modules>=0.2.1 in /usr/local/lib/python3.10/dist-packages (from google-auth<3.0dev,>=1.25.0->google-api-core<3.0.0dev,>=1.29.0->google-api-core[grpc]<3.0.0dev,>=1.29.0->google-cloud-bigquery) (0.4.0)\n",
            "Requirement already satisfied: rsa<5,>=3.1.4 in /usr/local/lib/python3.10/dist-packages (from google-auth<3.0dev,>=1.25.0->google-api-core<3.0.0dev,>=1.29.0->google-api-core[grpc]<3.0.0dev,>=1.29.0->google-cloud-bigquery) (4.9)\n",
            "Requirement already satisfied: pyasn1<0.7.0,>=0.4.6 in /usr/local/lib/python3.10/dist-packages (from pyasn1-modules>=0.2.1->google-auth<3.0dev,>=1.25.0->google-api-core<3.0.0dev,>=1.29.0->google-api-core[grpc]<3.0.0dev,>=1.29.0->google-cloud-bigquery) (0.6.0)\n",
            "Requirement already satisfied: basedosdados in /usr/local/lib/python3.10/dist-packages (1.6.11)\n",
            "Requirement already satisfied: Jinja2==3.0.3 in /usr/local/lib/python3.10/dist-packages (from basedosdados) (3.0.3)\n",
            "Requirement already satisfied: ckanapi==4.6 in /usr/local/lib/python3.10/dist-packages (from basedosdados) (4.6)\n",
            "Requirement already satisfied: click==8.0.3 in /usr/local/lib/python3.10/dist-packages (from basedosdados) (8.0.3)\n",
            "Requirement already satisfied: google-cloud-bigquery==2.30.1 in /usr/local/lib/python3.10/dist-packages (from basedosdados) (2.30.1)\n",
            "Requirement already satisfied: google-cloud-bigquery-storage==1.1.0 in /usr/local/lib/python3.10/dist-packages (from basedosdados) (1.1.0)\n",
            "Requirement already satisfied: google-cloud-storage==1.42.3 in /usr/local/lib/python3.10/dist-packages (from basedosdados) (1.42.3)\n",
            "Requirement already satisfied: importlib-metadata<5.0.0,>=4.11.3 in /usr/local/lib/python3.10/dist-packages (from basedosdados) (4.13.0)\n",
            "Requirement already satisfied: loguru<0.7.0,>=0.6.0 in /usr/local/lib/python3.10/dist-packages (from basedosdados) (0.6.0)\n",
            "Requirement already satisfied: pandas<2.0.0,>=1.3.5 in /usr/local/lib/python3.10/dist-packages (from basedosdados) (1.5.3)\n",
            "Requirement already satisfied: pandas-gbq<0.18.0,>=0.17.4 in /usr/local/lib/python3.10/dist-packages (from basedosdados) (0.17.9)\n",
            "Requirement already satisfied: pandavro<2.0.0,>=1.6.0 in /usr/local/lib/python3.10/dist-packages (from basedosdados) (1.8.0)\n",
            "Requirement already satisfied: pyaml==20.4.0 in /usr/local/lib/python3.10/dist-packages (from basedosdados) (20.4.0)\n",
            "Requirement already satisfied: pyarrow==6.0.0 in /usr/local/lib/python3.10/dist-packages (from basedosdados) (6.0.0)\n",
            "Requirement already satisfied: ruamel.yaml==0.17.10 in /usr/local/lib/python3.10/dist-packages (from basedosdados) (0.17.10)\n",
            "Requirement already satisfied: shapely<2.0.0,>=1.6.0 in /usr/local/lib/python3.10/dist-packages (from basedosdados) (1.8.5.post1)\n",
            "Requirement already satisfied: toml<0.11.0,>=0.10.2 in /usr/local/lib/python3.10/dist-packages (from basedosdados) (0.10.2)\n",
            "Requirement already satisfied: tomlkit==0.7.0 in /usr/local/lib/python3.10/dist-packages (from basedosdados) (0.7.0)\n",
            "Requirement already satisfied: tqdm==4.50.2 in /usr/local/lib/python3.10/dist-packages (from basedosdados) (4.50.2)\n",
            "Requirement already satisfied: setuptools in /usr/local/lib/python3.10/dist-packages (from ckanapi==4.6->basedosdados) (71.0.4)\n",
            "Requirement already satisfied: docopt in /usr/local/lib/python3.10/dist-packages (from ckanapi==4.6->basedosdados) (0.6.2)\n",
            "Requirement already satisfied: requests in /usr/local/lib/python3.10/dist-packages (from ckanapi==4.6->basedosdados) (2.32.3)\n",
            "Requirement already satisfied: python-slugify>=1.0 in /usr/local/lib/python3.10/dist-packages (from ckanapi==4.6->basedosdados) (8.0.4)\n",
            "Requirement already satisfied: six<2.0,>=1.9 in /usr/local/lib/python3.10/dist-packages (from ckanapi==4.6->basedosdados) (1.16.0)\n",
            "Requirement already satisfied: grpcio<2.0dev,>=1.38.1 in /usr/local/lib/python3.10/dist-packages (from google-cloud-bigquery==2.30.1->basedosdados) (1.64.1)\n",
            "Requirement already satisfied: google-api-core<3.0.0dev,>=1.29.0 in /usr/local/lib/python3.10/dist-packages (from google-api-core[grpc]<3.0.0dev,>=1.29.0->google-cloud-bigquery==2.30.1->basedosdados) (1.34.1)\n",
            "Requirement already satisfied: proto-plus>=1.10.0 in /usr/local/lib/python3.10/dist-packages (from google-cloud-bigquery==2.30.1->basedosdados) (1.24.0)\n",
            "Requirement already satisfied: google-cloud-core<3.0.0dev,>=1.4.1 in /usr/local/lib/python3.10/dist-packages (from google-cloud-bigquery==2.30.1->basedosdados) (2.4.1)\n",
            "Requirement already satisfied: google-resumable-media<3.0dev,>=0.6.0 in /usr/local/lib/python3.10/dist-packages (from google-cloud-bigquery==2.30.1->basedosdados) (2.7.2)\n",
            "Requirement already satisfied: packaging>=14.3 in /usr/local/lib/python3.10/dist-packages (from google-cloud-bigquery==2.30.1->basedosdados) (24.1)\n",
            "Requirement already satisfied: protobuf>=3.12.0 in /usr/local/lib/python3.10/dist-packages (from google-cloud-bigquery==2.30.1->basedosdados) (3.20.3)\n",
            "Requirement already satisfied: python-dateutil<3.0dev,>=2.7.2 in /usr/local/lib/python3.10/dist-packages (from google-cloud-bigquery==2.30.1->basedosdados) (2.8.2)\n",
            "Requirement already satisfied: google-auth<3.0dev,>=1.25.0 in /usr/local/lib/python3.10/dist-packages (from google-cloud-storage==1.42.3->basedosdados) (2.27.0)\n",
            "Requirement already satisfied: MarkupSafe>=2.0 in /usr/local/lib/python3.10/dist-packages (from Jinja2==3.0.3->basedosdados) (2.1.5)\n",
            "Requirement already satisfied: PyYAML in /usr/local/lib/python3.10/dist-packages (from pyaml==20.4.0->basedosdados) (6.0.2)\n",
            "Requirement already satisfied: numpy>=1.16.6 in /usr/local/lib/python3.10/dist-packages (from pyarrow==6.0.0->basedosdados) (1.26.4)\n",
            "Requirement already satisfied: zipp>=0.5 in /usr/local/lib/python3.10/dist-packages (from importlib-metadata<5.0.0,>=4.11.3->basedosdados) (3.20.0)\n",
            "Requirement already satisfied: pytz>=2020.1 in /usr/local/lib/python3.10/dist-packages (from pandas<2.0.0,>=1.3.5->basedosdados) (2024.1)\n",
            "Requirement already satisfied: db-dtypes<2.0.0,>=0.3.1 in /usr/local/lib/python3.10/dist-packages (from pandas-gbq<0.18.0,>=0.17.4->basedosdados) (1.3.0)\n",
            "Requirement already satisfied: pydata-google-auth in /usr/local/lib/python3.10/dist-packages (from pandas-gbq<0.18.0,>=0.17.4->basedosdados) (1.8.2)\n",
            "Requirement already satisfied: google-auth-oauthlib>=0.0.1 in /usr/local/lib/python3.10/dist-packages (from pandas-gbq<0.18.0,>=0.17.4->basedosdados) (1.2.1)\n",
            "Requirement already satisfied: fastavro<2.0.0,>=1.5.1 in /usr/local/lib/python3.10/dist-packages (from pandavro<2.0.0,>=1.6.0->basedosdados) (1.9.5)\n",
            "Requirement already satisfied: googleapis-common-protos<2.0dev,>=1.56.2 in /usr/local/lib/python3.10/dist-packages (from google-api-core<3.0.0dev,>=1.29.0->google-api-core[grpc]<3.0.0dev,>=1.29.0->google-cloud-bigquery==2.30.1->basedosdados) (1.63.2)\n",
            "Requirement already satisfied: grpcio-status<2.0dev,>=1.33.2 in /usr/local/lib/python3.10/dist-packages (from google-api-core[grpc]<3.0.0dev,>=1.29.0->google-cloud-bigquery==2.30.1->basedosdados) (1.48.2)\n",
            "Requirement already satisfied: cachetools<6.0,>=2.0.0 in /usr/local/lib/python3.10/dist-packages (from google-auth<3.0dev,>=1.25.0->google-cloud-storage==1.42.3->basedosdados) (5.5.0)\n",
            "Requirement already satisfied: pyasn1-modules>=0.2.1 in /usr/local/lib/python3.10/dist-packages (from google-auth<3.0dev,>=1.25.0->google-cloud-storage==1.42.3->basedosdados) (0.4.0)\n",
            "Requirement already satisfied: rsa<5,>=3.1.4 in /usr/local/lib/python3.10/dist-packages (from google-auth<3.0dev,>=1.25.0->google-cloud-storage==1.42.3->basedosdados) (4.9)\n",
            "Requirement already satisfied: requests-oauthlib>=0.7.0 in /usr/local/lib/python3.10/dist-packages (from google-auth-oauthlib>=0.0.1->pandas-gbq<0.18.0,>=0.17.4->basedosdados) (1.3.1)\n",
            "Requirement already satisfied: google-crc32c<2.0dev,>=1.0 in /usr/local/lib/python3.10/dist-packages (from google-resumable-media<3.0dev,>=0.6.0->google-cloud-bigquery==2.30.1->basedosdados) (1.5.0)\n",
            "Requirement already satisfied: text-unidecode>=1.3 in /usr/local/lib/python3.10/dist-packages (from python-slugify>=1.0->ckanapi==4.6->basedosdados) (1.3)\n",
            "Requirement already satisfied: charset-normalizer<4,>=2 in /usr/local/lib/python3.10/dist-packages (from requests->ckanapi==4.6->basedosdados) (3.3.2)\n",
            "Requirement already satisfied: idna<4,>=2.5 in /usr/local/lib/python3.10/dist-packages (from requests->ckanapi==4.6->basedosdados) (3.7)\n",
            "Requirement already satisfied: urllib3<3,>=1.21.1 in /usr/local/lib/python3.10/dist-packages (from requests->ckanapi==4.6->basedosdados) (2.0.7)\n",
            "Requirement already satisfied: certifi>=2017.4.17 in /usr/local/lib/python3.10/dist-packages (from requests->ckanapi==4.6->basedosdados) (2024.7.4)\n",
            "Requirement already satisfied: pyasn1<0.7.0,>=0.4.6 in /usr/local/lib/python3.10/dist-packages (from pyasn1-modules>=0.2.1->google-auth<3.0dev,>=1.25.0->google-cloud-storage==1.42.3->basedosdados) (0.6.0)\n",
            "Requirement already satisfied: oauthlib>=3.0.0 in /usr/local/lib/python3.10/dist-packages (from requests-oauthlib>=0.7.0->google-auth-oauthlib>=0.0.1->pandas-gbq<0.18.0,>=0.17.4->basedosdados) (3.2.2)\n"
          ]
        }
      ],
      "source": [
        "# Instala BigQuery e basedosdados\n",
        "\n",
        "!pip install google-cloud-bigquery\n",
        "!pip install basedosdados"
      ]
    },
    {
      "cell_type": "code",
      "source": [
        "# importar as bibliotecas necessarias\n",
        "\n",
        "import pandas as pd\n",
        "import basedosdados as bd"
      ],
      "metadata": {
        "id": "6O4eQlarwQm2"
      },
      "execution_count": 77,
      "outputs": []
    },
    {
      "cell_type": "code",
      "source": [
        "# id do projeto no google cloud\n",
        "\n",
        "project_id = \"datariojairson\""
      ],
      "metadata": {
        "id": "v5EZcOV9wSxw"
      },
      "execution_count": 78,
      "outputs": []
    },
    {
      "cell_type": "code",
      "source": [
        "# Autenticar no google cloude\n",
        "\n",
        "from google.colab import auth\n",
        "auth.authenticate_user()"
      ],
      "metadata": {
        "id": "PRm-u95SwUw9"
      },
      "execution_count": 79,
      "outputs": []
    },
    {
      "cell_type": "code",
      "source": [
        "# Consulta dados 'bairro' e armazena no DataFrame.\n",
        "\n",
        "df_dados_mestres = bd.read_sql(\"SELECT* FROM `datario.dados_mestres.bairro`\",\n",
        "                 billing_project_id = project_id)"
      ],
      "metadata": {
        "colab": {
          "base_uri": "https://localhost:8080/"
        },
        "id": "smJJa6XxwWe1",
        "outputId": "d0df41f8-7b09-45d6-90c2-1360acf0a527"
      },
      "execution_count": 80,
      "outputs": [
        {
          "output_type": "stream",
          "name": "stderr",
          "text": [
            "Downloading: 100%|██████████| 164/164 [00:01<00:00, 108.13rows/s]\n"
          ]
        }
      ]
    },
    {
      "cell_type": "code",
      "source": [
        "# Consulta chamados do dia '2023-04-01' e armazena no DataFrame.\n",
        "data_especifica = '2023-04-01'\n",
        "\n",
        "consulta_sql = f\"\"\"\n",
        "SELECT *\n",
        "FROM `datario.adm_central_atendimento_1746.chamado`\n",
        "WHERE DATE(data_inicio) = '{data_especifica}'\n",
        "\"\"\"\n",
        "\n",
        "df_chamados = bd.read_sql(consulta_sql, billing_project_id=project_id)"
      ],
      "metadata": {
        "colab": {
          "base_uri": "https://localhost:8080/"
        },
        "id": "81g7PIsywZBe",
        "outputId": "b6ebaad3-5fee-4578-ade8-6ff023bd7229"
      },
      "execution_count": 81,
      "outputs": [
        {
          "output_type": "stream",
          "name": "stderr",
          "text": [
            "Downloading: 100%|██████████| 1756/1756 [00:00<00:00, 3091.51rows/s]\n"
          ]
        }
      ]
    },
    {
      "cell_type": "code",
      "source": [],
      "metadata": {
        "id": "VrQzzfgfwp-F"
      },
      "execution_count": 81,
      "outputs": []
    },
    {
      "cell_type": "markdown",
      "source": [
        "# **Localização de chamados do 1746**\n",
        "\n",
        "Utilize a tabela de Chamados do 1746 e a tabela de Bairros do Rio de Janeiro para as perguntas de 1-5.\n",
        "\n",
        "\n"
      ],
      "metadata": {
        "id": "NuqbCScqwqu8"
      }
    },
    {
      "cell_type": "markdown",
      "source": [
        "# 1. **Quantos chamados foram abertos no dia 01/04/2023?**"
      ],
      "metadata": {
        "id": "sve7xiZKw-c8"
      }
    },
    {
      "cell_type": "code",
      "source": [
        "# Converte 'data_inicio' para datetime, filtra os chamados de 01/04/2023\n",
        "\n",
        "df_chamados['data_inicio'] = pd.to_datetime(df_chamados['data_inicio'])\n",
        "df_chamado_0104 = df_chamados[df_chamados['data_inicio'].dt.date == pd.to_datetime('2023-04-01').date()]\n",
        "print(f\"Foram abertos {len(df_chamado_0104)} chamados no dia 2023-04-01.\")"
      ],
      "metadata": {
        "colab": {
          "base_uri": "https://localhost:8080/"
        },
        "id": "QJnNDow9xBAS",
        "outputId": "3b0ae062-aef8-495e-94b1-d76fd8526c51"
      },
      "execution_count": 82,
      "outputs": [
        {
          "output_type": "stream",
          "name": "stdout",
          "text": [
            "Foram abertos 1756 chamados no dia 2023-04-01.\n"
          ]
        }
      ]
    },
    {
      "cell_type": "markdown",
      "source": [
        "# 2. **Qual o tipo de chamado que teve mais teve chamados abertos no dia 01/04/2023?**"
      ],
      "metadata": {
        "id": "FUIi3DoTxG1z"
      }
    },
    {
      "cell_type": "code",
      "source": [
        "# Identifica e imprime o tipo de chamado mais frequente em 01/04/2023.\n",
        "\n",
        "tipo_chamado_mais_frequente = df_chamado_0104['tipo'].value_counts().index[0]\n",
        "print(f\"O tipo de chamado com mais ocorrências em 01/04/2023 foi: {tipo_chamado_mais_frequente}, foram {df_chamado_0104['tipo'].value_counts()[0]} chamados\")"
      ],
      "metadata": {
        "colab": {
          "base_uri": "https://localhost:8080/"
        },
        "id": "_H-F8PEuxJY6",
        "outputId": "f7d2fc6d-56a0-4233-c109-a48284a157f1"
      },
      "execution_count": 83,
      "outputs": [
        {
          "output_type": "stream",
          "name": "stdout",
          "text": [
            "O tipo de chamado com mais ocorrências em 01/04/2023 foi: Estacionamento irregular, foram 366 chamados\n"
          ]
        }
      ]
    },
    {
      "cell_type": "markdown",
      "source": [
        "# 3. **Quais os nomes dos 3 bairros que mais tiveram chamados abertos nesse dia?**"
      ],
      "metadata": {
        "id": "4M0gdcv6xMZM"
      }
    },
    {
      "cell_type": "code",
      "source": [
        "# Faz merge externo entre 'df_dados_mestres' e 'df_chamados'.\n",
        "df_mestre_chamados_merged = pd.merge(df_dados_mestres, df_chamados, on='id_bairro', how='outer')\n",
        "df_mestre_chamados_merged.head()"
      ],
      "metadata": {
        "colab": {
          "base_uri": "https://localhost:8080/",
          "height": 273
        },
        "id": "mpzPfzMAxOHE",
        "outputId": "026b7eb9-39bd-4cf0-bd4b-6a788c66485d"
      },
      "execution_count": 84,
      "outputs": [
        {
          "output_type": "execute_result",
          "data": {
            "text/plain": [
              "  id_bairro          nome id_area_planejamento id_regiao_planejamento  \\\n",
              "0         2        Gamboa                    1                    1.1   \n",
              "1         1         Saúde                    1                    1.1   \n",
              "2         4          Caju                    1                    1.1   \n",
              "3         4          Caju                    1                    1.1   \n",
              "4         3  Santo Cristo                    1                    1.1   \n",
              "\n",
              "  nome_regiao_planejamento id_regiao_administrativa  \\\n",
              "0                   Centro                        1   \n",
              "1                   Centro                        1   \n",
              "2                   Centro                        1   \n",
              "3                   Centro                        1   \n",
              "4                   Centro                        1   \n",
              "\n",
              "  nome_regiao_administrativa subprefeitura          area     perimetro  ...  \\\n",
              "0                  Portuaria        Centro  1.112903e+06   4612.833630  ...   \n",
              "1                  Portuaria        Centro  3.638176e+05   2646.220568  ...   \n",
              "2                  Portuaria        Centro  5.347481e+06  19800.522524  ...   \n",
              "3                  Portuaria        Centro  5.347481e+06  19800.522524  ...   \n",
              "4                  Portuaria        Centro  1.684721e+06   6743.227885  ...   \n",
              "\n",
              "  data_real_diagnostico tempo_prazo prazo_unidade prazo_tipo   dentro_prazo  \\\n",
              "0                   NaT        <NA>           NaN        NaN            NaN   \n",
              "1                   NaT        <NA>             H          F       No prazo   \n",
              "2                   NaT        <NA>             D          F  Fora do prazo   \n",
              "3                   NaT        <NA>             D          F       No prazo   \n",
              "4                   NaT        <NA>             D          F  Fora do prazo   \n",
              "\n",
              "    situacao   tipo_situacao justificativa_status  reclamacoes data_particao  \n",
              "0        NaN             NaN                  NaN         <NA>           NaT  \n",
              "1  Encerrado  Não constatado                 None            0    2023-04-01  \n",
              "2  Encerrado        Atendido                 None            0    2023-04-01  \n",
              "3  Encerrado    Não atendido                 None            0    2023-04-01  \n",
              "4  Encerrado        Atendido                 None            2    2023-04-01  \n",
              "\n",
              "[5 rows x 43 columns]"
            ],
            "text/html": [
              "\n",
              "  <div id=\"df-7d743ff8-bce1-4559-b2c6-5d902964b3af\" class=\"colab-df-container\">\n",
              "    <div>\n",
              "<style scoped>\n",
              "    .dataframe tbody tr th:only-of-type {\n",
              "        vertical-align: middle;\n",
              "    }\n",
              "\n",
              "    .dataframe tbody tr th {\n",
              "        vertical-align: top;\n",
              "    }\n",
              "\n",
              "    .dataframe thead th {\n",
              "        text-align: right;\n",
              "    }\n",
              "</style>\n",
              "<table border=\"1\" class=\"dataframe\">\n",
              "  <thead>\n",
              "    <tr style=\"text-align: right;\">\n",
              "      <th></th>\n",
              "      <th>id_bairro</th>\n",
              "      <th>nome</th>\n",
              "      <th>id_area_planejamento</th>\n",
              "      <th>id_regiao_planejamento</th>\n",
              "      <th>nome_regiao_planejamento</th>\n",
              "      <th>id_regiao_administrativa</th>\n",
              "      <th>nome_regiao_administrativa</th>\n",
              "      <th>subprefeitura</th>\n",
              "      <th>area</th>\n",
              "      <th>perimetro</th>\n",
              "      <th>...</th>\n",
              "      <th>data_real_diagnostico</th>\n",
              "      <th>tempo_prazo</th>\n",
              "      <th>prazo_unidade</th>\n",
              "      <th>prazo_tipo</th>\n",
              "      <th>dentro_prazo</th>\n",
              "      <th>situacao</th>\n",
              "      <th>tipo_situacao</th>\n",
              "      <th>justificativa_status</th>\n",
              "      <th>reclamacoes</th>\n",
              "      <th>data_particao</th>\n",
              "    </tr>\n",
              "  </thead>\n",
              "  <tbody>\n",
              "    <tr>\n",
              "      <th>0</th>\n",
              "      <td>2</td>\n",
              "      <td>Gamboa</td>\n",
              "      <td>1</td>\n",
              "      <td>1.1</td>\n",
              "      <td>Centro</td>\n",
              "      <td>1</td>\n",
              "      <td>Portuaria</td>\n",
              "      <td>Centro</td>\n",
              "      <td>1.112903e+06</td>\n",
              "      <td>4612.833630</td>\n",
              "      <td>...</td>\n",
              "      <td>NaT</td>\n",
              "      <td>&lt;NA&gt;</td>\n",
              "      <td>NaN</td>\n",
              "      <td>NaN</td>\n",
              "      <td>NaN</td>\n",
              "      <td>NaN</td>\n",
              "      <td>NaN</td>\n",
              "      <td>NaN</td>\n",
              "      <td>&lt;NA&gt;</td>\n",
              "      <td>NaT</td>\n",
              "    </tr>\n",
              "    <tr>\n",
              "      <th>1</th>\n",
              "      <td>1</td>\n",
              "      <td>Saúde</td>\n",
              "      <td>1</td>\n",
              "      <td>1.1</td>\n",
              "      <td>Centro</td>\n",
              "      <td>1</td>\n",
              "      <td>Portuaria</td>\n",
              "      <td>Centro</td>\n",
              "      <td>3.638176e+05</td>\n",
              "      <td>2646.220568</td>\n",
              "      <td>...</td>\n",
              "      <td>NaT</td>\n",
              "      <td>&lt;NA&gt;</td>\n",
              "      <td>H</td>\n",
              "      <td>F</td>\n",
              "      <td>No prazo</td>\n",
              "      <td>Encerrado</td>\n",
              "      <td>Não constatado</td>\n",
              "      <td>None</td>\n",
              "      <td>0</td>\n",
              "      <td>2023-04-01</td>\n",
              "    </tr>\n",
              "    <tr>\n",
              "      <th>2</th>\n",
              "      <td>4</td>\n",
              "      <td>Caju</td>\n",
              "      <td>1</td>\n",
              "      <td>1.1</td>\n",
              "      <td>Centro</td>\n",
              "      <td>1</td>\n",
              "      <td>Portuaria</td>\n",
              "      <td>Centro</td>\n",
              "      <td>5.347481e+06</td>\n",
              "      <td>19800.522524</td>\n",
              "      <td>...</td>\n",
              "      <td>NaT</td>\n",
              "      <td>&lt;NA&gt;</td>\n",
              "      <td>D</td>\n",
              "      <td>F</td>\n",
              "      <td>Fora do prazo</td>\n",
              "      <td>Encerrado</td>\n",
              "      <td>Atendido</td>\n",
              "      <td>None</td>\n",
              "      <td>0</td>\n",
              "      <td>2023-04-01</td>\n",
              "    </tr>\n",
              "    <tr>\n",
              "      <th>3</th>\n",
              "      <td>4</td>\n",
              "      <td>Caju</td>\n",
              "      <td>1</td>\n",
              "      <td>1.1</td>\n",
              "      <td>Centro</td>\n",
              "      <td>1</td>\n",
              "      <td>Portuaria</td>\n",
              "      <td>Centro</td>\n",
              "      <td>5.347481e+06</td>\n",
              "      <td>19800.522524</td>\n",
              "      <td>...</td>\n",
              "      <td>NaT</td>\n",
              "      <td>&lt;NA&gt;</td>\n",
              "      <td>D</td>\n",
              "      <td>F</td>\n",
              "      <td>No prazo</td>\n",
              "      <td>Encerrado</td>\n",
              "      <td>Não atendido</td>\n",
              "      <td>None</td>\n",
              "      <td>0</td>\n",
              "      <td>2023-04-01</td>\n",
              "    </tr>\n",
              "    <tr>\n",
              "      <th>4</th>\n",
              "      <td>3</td>\n",
              "      <td>Santo Cristo</td>\n",
              "      <td>1</td>\n",
              "      <td>1.1</td>\n",
              "      <td>Centro</td>\n",
              "      <td>1</td>\n",
              "      <td>Portuaria</td>\n",
              "      <td>Centro</td>\n",
              "      <td>1.684721e+06</td>\n",
              "      <td>6743.227885</td>\n",
              "      <td>...</td>\n",
              "      <td>NaT</td>\n",
              "      <td>&lt;NA&gt;</td>\n",
              "      <td>D</td>\n",
              "      <td>F</td>\n",
              "      <td>Fora do prazo</td>\n",
              "      <td>Encerrado</td>\n",
              "      <td>Atendido</td>\n",
              "      <td>None</td>\n",
              "      <td>2</td>\n",
              "      <td>2023-04-01</td>\n",
              "    </tr>\n",
              "  </tbody>\n",
              "</table>\n",
              "<p>5 rows × 43 columns</p>\n",
              "</div>\n",
              "    <div class=\"colab-df-buttons\">\n",
              "\n",
              "  <div class=\"colab-df-container\">\n",
              "    <button class=\"colab-df-convert\" onclick=\"convertToInteractive('df-7d743ff8-bce1-4559-b2c6-5d902964b3af')\"\n",
              "            title=\"Convert this dataframe to an interactive table.\"\n",
              "            style=\"display:none;\">\n",
              "\n",
              "  <svg xmlns=\"http://www.w3.org/2000/svg\" height=\"24px\" viewBox=\"0 -960 960 960\">\n",
              "    <path d=\"M120-120v-720h720v720H120Zm60-500h600v-160H180v160Zm220 220h160v-160H400v160Zm0 220h160v-160H400v160ZM180-400h160v-160H180v160Zm440 0h160v-160H620v160ZM180-180h160v-160H180v160Zm440 0h160v-160H620v160Z\"/>\n",
              "  </svg>\n",
              "    </button>\n",
              "\n",
              "  <style>\n",
              "    .colab-df-container {\n",
              "      display:flex;\n",
              "      gap: 12px;\n",
              "    }\n",
              "\n",
              "    .colab-df-convert {\n",
              "      background-color: #E8F0FE;\n",
              "      border: none;\n",
              "      border-radius: 50%;\n",
              "      cursor: pointer;\n",
              "      display: none;\n",
              "      fill: #1967D2;\n",
              "      height: 32px;\n",
              "      padding: 0 0 0 0;\n",
              "      width: 32px;\n",
              "    }\n",
              "\n",
              "    .colab-df-convert:hover {\n",
              "      background-color: #E2EBFA;\n",
              "      box-shadow: 0px 1px 2px rgba(60, 64, 67, 0.3), 0px 1px 3px 1px rgba(60, 64, 67, 0.15);\n",
              "      fill: #174EA6;\n",
              "    }\n",
              "\n",
              "    .colab-df-buttons div {\n",
              "      margin-bottom: 4px;\n",
              "    }\n",
              "\n",
              "    [theme=dark] .colab-df-convert {\n",
              "      background-color: #3B4455;\n",
              "      fill: #D2E3FC;\n",
              "    }\n",
              "\n",
              "    [theme=dark] .colab-df-convert:hover {\n",
              "      background-color: #434B5C;\n",
              "      box-shadow: 0px 1px 3px 1px rgba(0, 0, 0, 0.15);\n",
              "      filter: drop-shadow(0px 1px 2px rgba(0, 0, 0, 0.3));\n",
              "      fill: #FFFFFF;\n",
              "    }\n",
              "  </style>\n",
              "\n",
              "    <script>\n",
              "      const buttonEl =\n",
              "        document.querySelector('#df-7d743ff8-bce1-4559-b2c6-5d902964b3af button.colab-df-convert');\n",
              "      buttonEl.style.display =\n",
              "        google.colab.kernel.accessAllowed ? 'block' : 'none';\n",
              "\n",
              "      async function convertToInteractive(key) {\n",
              "        const element = document.querySelector('#df-7d743ff8-bce1-4559-b2c6-5d902964b3af');\n",
              "        const dataTable =\n",
              "          await google.colab.kernel.invokeFunction('convertToInteractive',\n",
              "                                                    [key], {});\n",
              "        if (!dataTable) return;\n",
              "\n",
              "        const docLinkHtml = 'Like what you see? Visit the ' +\n",
              "          '<a target=\"_blank\" href=https://colab.research.google.com/notebooks/data_table.ipynb>data table notebook</a>'\n",
              "          + ' to learn more about interactive tables.';\n",
              "        element.innerHTML = '';\n",
              "        dataTable['output_type'] = 'display_data';\n",
              "        await google.colab.output.renderOutput(dataTable, element);\n",
              "        const docLink = document.createElement('div');\n",
              "        docLink.innerHTML = docLinkHtml;\n",
              "        element.appendChild(docLink);\n",
              "      }\n",
              "    </script>\n",
              "  </div>\n",
              "\n",
              "\n",
              "<div id=\"df-c8bbedea-95d4-4b94-9026-5b84b8afe1bf\">\n",
              "  <button class=\"colab-df-quickchart\" onclick=\"quickchart('df-c8bbedea-95d4-4b94-9026-5b84b8afe1bf')\"\n",
              "            title=\"Suggest charts\"\n",
              "            style=\"display:none;\">\n",
              "\n",
              "<svg xmlns=\"http://www.w3.org/2000/svg\" height=\"24px\"viewBox=\"0 0 24 24\"\n",
              "     width=\"24px\">\n",
              "    <g>\n",
              "        <path d=\"M19 3H5c-1.1 0-2 .9-2 2v14c0 1.1.9 2 2 2h14c1.1 0 2-.9 2-2V5c0-1.1-.9-2-2-2zM9 17H7v-7h2v7zm4 0h-2V7h2v10zm4 0h-2v-4h2v4z\"/>\n",
              "    </g>\n",
              "</svg>\n",
              "  </button>\n",
              "\n",
              "<style>\n",
              "  .colab-df-quickchart {\n",
              "      --bg-color: #E8F0FE;\n",
              "      --fill-color: #1967D2;\n",
              "      --hover-bg-color: #E2EBFA;\n",
              "      --hover-fill-color: #174EA6;\n",
              "      --disabled-fill-color: #AAA;\n",
              "      --disabled-bg-color: #DDD;\n",
              "  }\n",
              "\n",
              "  [theme=dark] .colab-df-quickchart {\n",
              "      --bg-color: #3B4455;\n",
              "      --fill-color: #D2E3FC;\n",
              "      --hover-bg-color: #434B5C;\n",
              "      --hover-fill-color: #FFFFFF;\n",
              "      --disabled-bg-color: #3B4455;\n",
              "      --disabled-fill-color: #666;\n",
              "  }\n",
              "\n",
              "  .colab-df-quickchart {\n",
              "    background-color: var(--bg-color);\n",
              "    border: none;\n",
              "    border-radius: 50%;\n",
              "    cursor: pointer;\n",
              "    display: none;\n",
              "    fill: var(--fill-color);\n",
              "    height: 32px;\n",
              "    padding: 0;\n",
              "    width: 32px;\n",
              "  }\n",
              "\n",
              "  .colab-df-quickchart:hover {\n",
              "    background-color: var(--hover-bg-color);\n",
              "    box-shadow: 0 1px 2px rgba(60, 64, 67, 0.3), 0 1px 3px 1px rgba(60, 64, 67, 0.15);\n",
              "    fill: var(--button-hover-fill-color);\n",
              "  }\n",
              "\n",
              "  .colab-df-quickchart-complete:disabled,\n",
              "  .colab-df-quickchart-complete:disabled:hover {\n",
              "    background-color: var(--disabled-bg-color);\n",
              "    fill: var(--disabled-fill-color);\n",
              "    box-shadow: none;\n",
              "  }\n",
              "\n",
              "  .colab-df-spinner {\n",
              "    border: 2px solid var(--fill-color);\n",
              "    border-color: transparent;\n",
              "    border-bottom-color: var(--fill-color);\n",
              "    animation:\n",
              "      spin 1s steps(1) infinite;\n",
              "  }\n",
              "\n",
              "  @keyframes spin {\n",
              "    0% {\n",
              "      border-color: transparent;\n",
              "      border-bottom-color: var(--fill-color);\n",
              "      border-left-color: var(--fill-color);\n",
              "    }\n",
              "    20% {\n",
              "      border-color: transparent;\n",
              "      border-left-color: var(--fill-color);\n",
              "      border-top-color: var(--fill-color);\n",
              "    }\n",
              "    30% {\n",
              "      border-color: transparent;\n",
              "      border-left-color: var(--fill-color);\n",
              "      border-top-color: var(--fill-color);\n",
              "      border-right-color: var(--fill-color);\n",
              "    }\n",
              "    40% {\n",
              "      border-color: transparent;\n",
              "      border-right-color: var(--fill-color);\n",
              "      border-top-color: var(--fill-color);\n",
              "    }\n",
              "    60% {\n",
              "      border-color: transparent;\n",
              "      border-right-color: var(--fill-color);\n",
              "    }\n",
              "    80% {\n",
              "      border-color: transparent;\n",
              "      border-right-color: var(--fill-color);\n",
              "      border-bottom-color: var(--fill-color);\n",
              "    }\n",
              "    90% {\n",
              "      border-color: transparent;\n",
              "      border-bottom-color: var(--fill-color);\n",
              "    }\n",
              "  }\n",
              "</style>\n",
              "\n",
              "  <script>\n",
              "    async function quickchart(key) {\n",
              "      const quickchartButtonEl =\n",
              "        document.querySelector('#' + key + ' button');\n",
              "      quickchartButtonEl.disabled = true;  // To prevent multiple clicks.\n",
              "      quickchartButtonEl.classList.add('colab-df-spinner');\n",
              "      try {\n",
              "        const charts = await google.colab.kernel.invokeFunction(\n",
              "            'suggestCharts', [key], {});\n",
              "      } catch (error) {\n",
              "        console.error('Error during call to suggestCharts:', error);\n",
              "      }\n",
              "      quickchartButtonEl.classList.remove('colab-df-spinner');\n",
              "      quickchartButtonEl.classList.add('colab-df-quickchart-complete');\n",
              "    }\n",
              "    (() => {\n",
              "      let quickchartButtonEl =\n",
              "        document.querySelector('#df-c8bbedea-95d4-4b94-9026-5b84b8afe1bf button');\n",
              "      quickchartButtonEl.style.display =\n",
              "        google.colab.kernel.accessAllowed ? 'block' : 'none';\n",
              "    })();\n",
              "  </script>\n",
              "</div>\n",
              "\n",
              "    </div>\n",
              "  </div>\n"
            ],
            "application/vnd.google.colaboratory.intrinsic+json": {
              "type": "dataframe",
              "variable_name": "df_mestre_chamados_merged"
            }
          },
          "metadata": {},
          "execution_count": 84
        }
      ]
    },
    {
      "cell_type": "code",
      "source": [
        "# Exibe os 3 bairros com mais chamados em 01/04/2023.\n",
        "\n",
        "top_3_bairros_merged = df_mestre_chamados_merged['nome'].value_counts().nlargest(3)\n",
        "print(f\"Os 3 bairros com mais chamados abertos em 01/04/2023 foram: {', '.join(top_3_bairros_merged.index)}\")"
      ],
      "metadata": {
        "colab": {
          "base_uri": "https://localhost:8080/"
        },
        "id": "IzIXClH3xRhD",
        "outputId": "898d149f-4935-4716-a0d4-a33e61657d4b"
      },
      "execution_count": 85,
      "outputs": [
        {
          "output_type": "stream",
          "name": "stdout",
          "text": [
            "Os 3 bairros com mais chamados abertos em 01/04/2023 foram: Campo Grande, Tijuca, Barra da Tijuca\n"
          ]
        }
      ]
    },
    {
      "cell_type": "markdown",
      "source": [
        "# 4. **Qual o nome da subprefeitura com mais chamados abertos nesse dia?**"
      ],
      "metadata": {
        "id": "q1mTjKrJxTtS"
      }
    },
    {
      "cell_type": "code",
      "source": [
        "# Identifica a subprefeitura com mais chamados em 01/04/2023 e exibe.\n",
        "\n",
        "top_subprefeitura = df_mestre_chamados_merged['subprefeitura'].value_counts().nlargest(1)\n",
        "top_subprefeitura = df_mestre_chamados_merged['subprefeitura'].value_counts().index[0]\n",
        "print(f\"A subprefeitura com mais chamados abertos em 01/04/2023 foi: {top_subprefeitura}, com {df_mestre_chamados_merged['subprefeitura'].value_counts()[0]} chamados\")\n"
      ],
      "metadata": {
        "colab": {
          "base_uri": "https://localhost:8080/"
        },
        "id": "IfZIllCGxWRq",
        "outputId": "d0886a84-aa9f-4a52-a14d-3fe604616a5b"
      },
      "execution_count": 86,
      "outputs": [
        {
          "output_type": "stream",
          "name": "stdout",
          "text": [
            "A subprefeitura com mais chamados abertos em 01/04/2023 foi: Zona Norte, com 515 chamados\n"
          ]
        }
      ]
    },
    {
      "cell_type": "markdown",
      "source": [
        "# 5. **Existe algum chamado aberto nesse dia que não foi associado a um bairro ou subprefeitura na tabela de bairros? Se sim, por que isso acontece?**"
      ],
      "metadata": {
        "id": "ZX2z_Wo2xbDB"
      }
    },
    {
      "cell_type": "code",
      "source": [
        "# Identifica chamados sem bairro associado e fornece possíveis explicações.\n",
        "chamados_sem_bairro = df_mestre_chamados_merged[df_mestre_chamados_merged['nome'].isnull()]\n",
        "num_chamados_sem_bairro = chamados_sem_bairro.shape[0]\n",
        "\n",
        "if num_chamados_sem_bairro > 0:\n",
        "    print(f\"OK! Sim, existem {num_chamados_sem_bairro} chamados sem bairro associado.\")\n",
        "    print(\"A ausência de informações sobre o bairro pode ocorrer por várias razões. Aqui estão alguns possíveis motivos:\")\n",
        "    print(\"1. Erro na entrada de dados: O campo correspondente ao bairro pode não ter sido preenchido adequadamente no momento do registro do chamado.\")\n",
        "    print(\"2. Chamados de locais fora da divisão oficial de bairros: Alguns chamados podem estar relacionados a áreas que não são formalmente divididas em bairros, como estradas, áreas rurais ou zonas de transição.\")\n",
        "    print(\"3. Base de dados incompleta ou desatualizada: A lista de bairros pode não estar completa ou pode não ter sido atualizada recentemente, o que pode resultar na ausência de informações correspondentes para determinados chamados.\")\n",
        "else:\n",
        "    print(\"Não, todos os chamados abertos nesse dia estão associados a um bairro.\")"
      ],
      "metadata": {
        "colab": {
          "base_uri": "https://localhost:8080/"
        },
        "id": "PnEgv4yexdxI",
        "outputId": "8a8949ab-68dd-45b9-c393-1caeb6b0e349"
      },
      "execution_count": 87,
      "outputs": [
        {
          "output_type": "stream",
          "name": "stdout",
          "text": [
            "OK! Sim, existem 73 chamados sem bairro associado.\n",
            "A ausência de informações sobre o bairro pode ocorrer por várias razões. Aqui estão alguns possíveis motivos:\n",
            "1. Erro na entrada de dados: O campo correspondente ao bairro pode não ter sido preenchido adequadamente no momento do registro do chamado.\n",
            "2. Chamados de locais fora da divisão oficial de bairros: Alguns chamados podem estar relacionados a áreas que não são formalmente divididas em bairros, como estradas, áreas rurais ou zonas de transição.\n",
            "3. Base de dados incompleta ou desatualizada: A lista de bairros pode não estar completa ou pode não ter sido atualizada recentemente, o que pode resultar na ausência de informações correspondentes para determinados chamados.\n"
          ]
        }
      ]
    },
    {
      "cell_type": "code",
      "source": [
        "# Identifica chamados sem subprefeitura associado e fornece possíveis explicações.\n",
        "\n",
        "df_dados_mestres_sem_subprefei= df_mestre_chamados_merged[df_mestre_chamados_merged['subprefeitura'].isnull()]\n",
        "num_df_dados_mestres_sem_subprefei = df_dados_mestres_sem_subprefei.shape[0]\n",
        "\n",
        "if num_df_dados_mestres_sem_subprefei >0:\n",
        "    print(f\"Sim, existem {num_df_dados_mestres_sem_subprefei} chamados sem subprefeitura associado.\")\n",
        "    print(\"A ausência de informações sobre o subprefeitura pode ocorrer por várias razões. Aqui estão alguns possíveis motivos:\")\n",
        "    print(\"1. Erro na entrada de dados:** O campo correspondente ao subprefeitura pode não ter sido preenchido adequadamente no momento do registro do chamado.\")\n",
        "    print(\"2. Chamados de locais fora da divisão oficial de subprefeitura:** Alguns chamados podem estar relacionados a áreas que não são formalmente divididas em subprefeituras, como estradas, áreas rurais ou zonas de transição.\")\n",
        "    print(\"3. Base de dados incompleta ou desatualizada: A lista de subprefeitura pode não estar completa ou pode não ter sido atualizada recentemente, o que pode resultar na ausência de informações correspondentes para determinados chamados.\")\n",
        "else:\n",
        "  print(\"Não, todos os chamados abertos nesse dia estão associados a uma subprefeitura.\")\n"
      ],
      "metadata": {
        "colab": {
          "base_uri": "https://localhost:8080/"
        },
        "id": "4ef-VS0lxf8f",
        "outputId": "cd6563eb-a7f3-422c-8be3-5405d2d8885f"
      },
      "execution_count": 88,
      "outputs": [
        {
          "output_type": "stream",
          "name": "stdout",
          "text": [
            "Sim, existem 73 chamados sem subprefeitura associado.\n",
            "A ausência de informações sobre o subprefeitura pode ocorrer por várias razões. Aqui estão alguns possíveis motivos:\n",
            "1. Erro na entrada de dados:** O campo correspondente ao subprefeitura pode não ter sido preenchido adequadamente no momento do registro do chamado.\n",
            "2. Chamados de locais fora da divisão oficial de subprefeitura:** Alguns chamados podem estar relacionados a áreas que não são formalmente divididas em subprefeituras, como estradas, áreas rurais ou zonas de transição.\n",
            "3. Base de dados incompleta ou desatualizada: A lista de subprefeitura pode não estar completa ou pode não ter sido atualizada recentemente, o que pode resultar na ausência de informações correspondentes para determinados chamados.\n"
          ]
        }
      ]
    },
    {
      "cell_type": "markdown",
      "source": [
        "# **Chamados do 1746 em grandes eventos**\n",
        "\n",
        "Utilize a tabela de Chamados do 1746 e a tabela de Ocupação Hoteleira em Grandes Eventos no Rio para as perguntas de 6-10. Para todas as perguntas considere o subtipo de chamado \"Perturbação do sossego\n"
      ],
      "metadata": {
        "id": "hsnccnz1xm8W"
      }
    },
    {
      "cell_type": "code",
      "source": [
        "# Consulta chamados entre '2022-01-01' e '2023-12-31' e armazena no DataFrame.\n",
        "\n",
        "data_fim = '2023-12-31'\n",
        "data_inicio = '2022-01-01'\n",
        "\n",
        "consulta_sql = f\"\"\"\n",
        "SELECT *\n",
        "FROM `datario.adm_central_atendimento_1746.chamado`\n",
        "WHERE DATE(data_inicio) BETWEEN '{data_inicio}' AND '{data_fim}'\n",
        "\"\"\"\n",
        "\n",
        "df_chamados_grandes_eventos = bd.read_sql(consulta_sql, billing_project_id=project_id)"
      ],
      "metadata": {
        "colab": {
          "base_uri": "https://localhost:8080/"
        },
        "id": "x23oeBg_6zND",
        "outputId": "278ce27f-4e0a-47ad-c131-1dead1cf004a"
      },
      "execution_count": 169,
      "outputs": [
        {
          "output_type": "stream",
          "name": "stderr",
          "text": [
            "Downloading: 100%|██████████| 1634336/1634336 [06:57<00:00, 3914.96rows/s]\n"
          ]
        }
      ]
    },
    {
      "cell_type": "code",
      "source": [
        "df_chamados_grandes_eventos.head(2)"
      ],
      "metadata": {
        "colab": {
          "base_uri": "https://localhost:8080/",
          "height": 231
        },
        "id": "Hn1nxXtT63jG",
        "outputId": "ca8f9039-a546-4835-9701-129aaa24135d"
      },
      "execution_count": 170,
      "outputs": [
        {
          "output_type": "execute_result",
          "data": {
            "text/plain": [
              "  id_chamado id_origem_ocorrencia         data_inicio            data_fim  \\\n",
              "0   17556781                   11 2022-08-04 00:58:17 2022-09-22 17:47:21   \n",
              "1   17561271                    1 2022-08-04 21:32:27 2022-08-05 23:43:00   \n",
              "\n",
              "  id_bairro id_territorialidade id_logradouro  numero_logradouro  \\\n",
              "0      None                None          None               <NA>   \n",
              "1         6                   1        157610                152   \n",
              "\n",
              "  id_unidade_organizacional  \\\n",
              "0                         8   \n",
              "1                         8   \n",
              "\n",
              "                         nome_unidade_organizacional  ...  \\\n",
              "0  RIOLUZ - Companhia Municipal de Energia e Ilum...  ...   \n",
              "1  RIOLUZ - Companhia Municipal de Energia e Ilum...  ...   \n",
              "\n",
              "  data_real_diagnostico tempo_prazo prazo_unidade prazo_tipo   dentro_prazo  \\\n",
              "0                   NaT        <NA>             D          F  Fora do prazo   \n",
              "1                   NaT        <NA>             D          F       No prazo   \n",
              "\n",
              "    situacao tipo_situacao justificativa_status  reclamacoes  data_particao  \n",
              "0  Encerrado  Não atendido                 None            0     2022-08-01  \n",
              "1  Encerrado      Atendido                 None            0     2022-08-01  \n",
              "\n",
              "[2 rows x 32 columns]"
            ],
            "text/html": [
              "\n",
              "  <div id=\"df-7d249183-8c69-4375-adc2-405a7398ec37\" class=\"colab-df-container\">\n",
              "    <div>\n",
              "<style scoped>\n",
              "    .dataframe tbody tr th:only-of-type {\n",
              "        vertical-align: middle;\n",
              "    }\n",
              "\n",
              "    .dataframe tbody tr th {\n",
              "        vertical-align: top;\n",
              "    }\n",
              "\n",
              "    .dataframe thead th {\n",
              "        text-align: right;\n",
              "    }\n",
              "</style>\n",
              "<table border=\"1\" class=\"dataframe\">\n",
              "  <thead>\n",
              "    <tr style=\"text-align: right;\">\n",
              "      <th></th>\n",
              "      <th>id_chamado</th>\n",
              "      <th>id_origem_ocorrencia</th>\n",
              "      <th>data_inicio</th>\n",
              "      <th>data_fim</th>\n",
              "      <th>id_bairro</th>\n",
              "      <th>id_territorialidade</th>\n",
              "      <th>id_logradouro</th>\n",
              "      <th>numero_logradouro</th>\n",
              "      <th>id_unidade_organizacional</th>\n",
              "      <th>nome_unidade_organizacional</th>\n",
              "      <th>...</th>\n",
              "      <th>data_real_diagnostico</th>\n",
              "      <th>tempo_prazo</th>\n",
              "      <th>prazo_unidade</th>\n",
              "      <th>prazo_tipo</th>\n",
              "      <th>dentro_prazo</th>\n",
              "      <th>situacao</th>\n",
              "      <th>tipo_situacao</th>\n",
              "      <th>justificativa_status</th>\n",
              "      <th>reclamacoes</th>\n",
              "      <th>data_particao</th>\n",
              "    </tr>\n",
              "  </thead>\n",
              "  <tbody>\n",
              "    <tr>\n",
              "      <th>0</th>\n",
              "      <td>17556781</td>\n",
              "      <td>11</td>\n",
              "      <td>2022-08-04 00:58:17</td>\n",
              "      <td>2022-09-22 17:47:21</td>\n",
              "      <td>None</td>\n",
              "      <td>None</td>\n",
              "      <td>None</td>\n",
              "      <td>&lt;NA&gt;</td>\n",
              "      <td>8</td>\n",
              "      <td>RIOLUZ - Companhia Municipal de Energia e Ilum...</td>\n",
              "      <td>...</td>\n",
              "      <td>NaT</td>\n",
              "      <td>&lt;NA&gt;</td>\n",
              "      <td>D</td>\n",
              "      <td>F</td>\n",
              "      <td>Fora do prazo</td>\n",
              "      <td>Encerrado</td>\n",
              "      <td>Não atendido</td>\n",
              "      <td>None</td>\n",
              "      <td>0</td>\n",
              "      <td>2022-08-01</td>\n",
              "    </tr>\n",
              "    <tr>\n",
              "      <th>1</th>\n",
              "      <td>17561271</td>\n",
              "      <td>1</td>\n",
              "      <td>2022-08-04 21:32:27</td>\n",
              "      <td>2022-08-05 23:43:00</td>\n",
              "      <td>6</td>\n",
              "      <td>1</td>\n",
              "      <td>157610</td>\n",
              "      <td>152</td>\n",
              "      <td>8</td>\n",
              "      <td>RIOLUZ - Companhia Municipal de Energia e Ilum...</td>\n",
              "      <td>...</td>\n",
              "      <td>NaT</td>\n",
              "      <td>&lt;NA&gt;</td>\n",
              "      <td>D</td>\n",
              "      <td>F</td>\n",
              "      <td>No prazo</td>\n",
              "      <td>Encerrado</td>\n",
              "      <td>Atendido</td>\n",
              "      <td>None</td>\n",
              "      <td>0</td>\n",
              "      <td>2022-08-01</td>\n",
              "    </tr>\n",
              "  </tbody>\n",
              "</table>\n",
              "<p>2 rows × 32 columns</p>\n",
              "</div>\n",
              "    <div class=\"colab-df-buttons\">\n",
              "\n",
              "  <div class=\"colab-df-container\">\n",
              "    <button class=\"colab-df-convert\" onclick=\"convertToInteractive('df-7d249183-8c69-4375-adc2-405a7398ec37')\"\n",
              "            title=\"Convert this dataframe to an interactive table.\"\n",
              "            style=\"display:none;\">\n",
              "\n",
              "  <svg xmlns=\"http://www.w3.org/2000/svg\" height=\"24px\" viewBox=\"0 -960 960 960\">\n",
              "    <path d=\"M120-120v-720h720v720H120Zm60-500h600v-160H180v160Zm220 220h160v-160H400v160Zm0 220h160v-160H400v160ZM180-400h160v-160H180v160Zm440 0h160v-160H620v160ZM180-180h160v-160H180v160Zm440 0h160v-160H620v160Z\"/>\n",
              "  </svg>\n",
              "    </button>\n",
              "\n",
              "  <style>\n",
              "    .colab-df-container {\n",
              "      display:flex;\n",
              "      gap: 12px;\n",
              "    }\n",
              "\n",
              "    .colab-df-convert {\n",
              "      background-color: #E8F0FE;\n",
              "      border: none;\n",
              "      border-radius: 50%;\n",
              "      cursor: pointer;\n",
              "      display: none;\n",
              "      fill: #1967D2;\n",
              "      height: 32px;\n",
              "      padding: 0 0 0 0;\n",
              "      width: 32px;\n",
              "    }\n",
              "\n",
              "    .colab-df-convert:hover {\n",
              "      background-color: #E2EBFA;\n",
              "      box-shadow: 0px 1px 2px rgba(60, 64, 67, 0.3), 0px 1px 3px 1px rgba(60, 64, 67, 0.15);\n",
              "      fill: #174EA6;\n",
              "    }\n",
              "\n",
              "    .colab-df-buttons div {\n",
              "      margin-bottom: 4px;\n",
              "    }\n",
              "\n",
              "    [theme=dark] .colab-df-convert {\n",
              "      background-color: #3B4455;\n",
              "      fill: #D2E3FC;\n",
              "    }\n",
              "\n",
              "    [theme=dark] .colab-df-convert:hover {\n",
              "      background-color: #434B5C;\n",
              "      box-shadow: 0px 1px 3px 1px rgba(0, 0, 0, 0.15);\n",
              "      filter: drop-shadow(0px 1px 2px rgba(0, 0, 0, 0.3));\n",
              "      fill: #FFFFFF;\n",
              "    }\n",
              "  </style>\n",
              "\n",
              "    <script>\n",
              "      const buttonEl =\n",
              "        document.querySelector('#df-7d249183-8c69-4375-adc2-405a7398ec37 button.colab-df-convert');\n",
              "      buttonEl.style.display =\n",
              "        google.colab.kernel.accessAllowed ? 'block' : 'none';\n",
              "\n",
              "      async function convertToInteractive(key) {\n",
              "        const element = document.querySelector('#df-7d249183-8c69-4375-adc2-405a7398ec37');\n",
              "        const dataTable =\n",
              "          await google.colab.kernel.invokeFunction('convertToInteractive',\n",
              "                                                    [key], {});\n",
              "        if (!dataTable) return;\n",
              "\n",
              "        const docLinkHtml = 'Like what you see? Visit the ' +\n",
              "          '<a target=\"_blank\" href=https://colab.research.google.com/notebooks/data_table.ipynb>data table notebook</a>'\n",
              "          + ' to learn more about interactive tables.';\n",
              "        element.innerHTML = '';\n",
              "        dataTable['output_type'] = 'display_data';\n",
              "        await google.colab.output.renderOutput(dataTable, element);\n",
              "        const docLink = document.createElement('div');\n",
              "        docLink.innerHTML = docLinkHtml;\n",
              "        element.appendChild(docLink);\n",
              "      }\n",
              "    </script>\n",
              "  </div>\n",
              "\n",
              "\n",
              "<div id=\"df-44fe02f0-f829-40b6-91d4-467972efb553\">\n",
              "  <button class=\"colab-df-quickchart\" onclick=\"quickchart('df-44fe02f0-f829-40b6-91d4-467972efb553')\"\n",
              "            title=\"Suggest charts\"\n",
              "            style=\"display:none;\">\n",
              "\n",
              "<svg xmlns=\"http://www.w3.org/2000/svg\" height=\"24px\"viewBox=\"0 0 24 24\"\n",
              "     width=\"24px\">\n",
              "    <g>\n",
              "        <path d=\"M19 3H5c-1.1 0-2 .9-2 2v14c0 1.1.9 2 2 2h14c1.1 0 2-.9 2-2V5c0-1.1-.9-2-2-2zM9 17H7v-7h2v7zm4 0h-2V7h2v10zm4 0h-2v-4h2v4z\"/>\n",
              "    </g>\n",
              "</svg>\n",
              "  </button>\n",
              "\n",
              "<style>\n",
              "  .colab-df-quickchart {\n",
              "      --bg-color: #E8F0FE;\n",
              "      --fill-color: #1967D2;\n",
              "      --hover-bg-color: #E2EBFA;\n",
              "      --hover-fill-color: #174EA6;\n",
              "      --disabled-fill-color: #AAA;\n",
              "      --disabled-bg-color: #DDD;\n",
              "  }\n",
              "\n",
              "  [theme=dark] .colab-df-quickchart {\n",
              "      --bg-color: #3B4455;\n",
              "      --fill-color: #D2E3FC;\n",
              "      --hover-bg-color: #434B5C;\n",
              "      --hover-fill-color: #FFFFFF;\n",
              "      --disabled-bg-color: #3B4455;\n",
              "      --disabled-fill-color: #666;\n",
              "  }\n",
              "\n",
              "  .colab-df-quickchart {\n",
              "    background-color: var(--bg-color);\n",
              "    border: none;\n",
              "    border-radius: 50%;\n",
              "    cursor: pointer;\n",
              "    display: none;\n",
              "    fill: var(--fill-color);\n",
              "    height: 32px;\n",
              "    padding: 0;\n",
              "    width: 32px;\n",
              "  }\n",
              "\n",
              "  .colab-df-quickchart:hover {\n",
              "    background-color: var(--hover-bg-color);\n",
              "    box-shadow: 0 1px 2px rgba(60, 64, 67, 0.3), 0 1px 3px 1px rgba(60, 64, 67, 0.15);\n",
              "    fill: var(--button-hover-fill-color);\n",
              "  }\n",
              "\n",
              "  .colab-df-quickchart-complete:disabled,\n",
              "  .colab-df-quickchart-complete:disabled:hover {\n",
              "    background-color: var(--disabled-bg-color);\n",
              "    fill: var(--disabled-fill-color);\n",
              "    box-shadow: none;\n",
              "  }\n",
              "\n",
              "  .colab-df-spinner {\n",
              "    border: 2px solid var(--fill-color);\n",
              "    border-color: transparent;\n",
              "    border-bottom-color: var(--fill-color);\n",
              "    animation:\n",
              "      spin 1s steps(1) infinite;\n",
              "  }\n",
              "\n",
              "  @keyframes spin {\n",
              "    0% {\n",
              "      border-color: transparent;\n",
              "      border-bottom-color: var(--fill-color);\n",
              "      border-left-color: var(--fill-color);\n",
              "    }\n",
              "    20% {\n",
              "      border-color: transparent;\n",
              "      border-left-color: var(--fill-color);\n",
              "      border-top-color: var(--fill-color);\n",
              "    }\n",
              "    30% {\n",
              "      border-color: transparent;\n",
              "      border-left-color: var(--fill-color);\n",
              "      border-top-color: var(--fill-color);\n",
              "      border-right-color: var(--fill-color);\n",
              "    }\n",
              "    40% {\n",
              "      border-color: transparent;\n",
              "      border-right-color: var(--fill-color);\n",
              "      border-top-color: var(--fill-color);\n",
              "    }\n",
              "    60% {\n",
              "      border-color: transparent;\n",
              "      border-right-color: var(--fill-color);\n",
              "    }\n",
              "    80% {\n",
              "      border-color: transparent;\n",
              "      border-right-color: var(--fill-color);\n",
              "      border-bottom-color: var(--fill-color);\n",
              "    }\n",
              "    90% {\n",
              "      border-color: transparent;\n",
              "      border-bottom-color: var(--fill-color);\n",
              "    }\n",
              "  }\n",
              "</style>\n",
              "\n",
              "  <script>\n",
              "    async function quickchart(key) {\n",
              "      const quickchartButtonEl =\n",
              "        document.querySelector('#' + key + ' button');\n",
              "      quickchartButtonEl.disabled = true;  // To prevent multiple clicks.\n",
              "      quickchartButtonEl.classList.add('colab-df-spinner');\n",
              "      try {\n",
              "        const charts = await google.colab.kernel.invokeFunction(\n",
              "            'suggestCharts', [key], {});\n",
              "      } catch (error) {\n",
              "        console.error('Error during call to suggestCharts:', error);\n",
              "      }\n",
              "      quickchartButtonEl.classList.remove('colab-df-spinner');\n",
              "      quickchartButtonEl.classList.add('colab-df-quickchart-complete');\n",
              "    }\n",
              "    (() => {\n",
              "      let quickchartButtonEl =\n",
              "        document.querySelector('#df-44fe02f0-f829-40b6-91d4-467972efb553 button');\n",
              "      quickchartButtonEl.style.display =\n",
              "        google.colab.kernel.accessAllowed ? 'block' : 'none';\n",
              "    })();\n",
              "  </script>\n",
              "</div>\n",
              "\n",
              "    </div>\n",
              "  </div>\n"
            ],
            "application/vnd.google.colaboratory.intrinsic+json": {
              "type": "dataframe",
              "variable_name": "df_chamados_grandes_eventos"
            }
          },
          "metadata": {},
          "execution_count": 170
        }
      ]
    },
    {
      "cell_type": "markdown",
      "source": [
        "# 6. **Quantos chamados com o subtipo \"Perturbação do sossego\" foram abertos desde 01/01/2022 até 31/12/2023 (incluindo extremidades)?**"
      ],
      "metadata": {
        "id": "3NEeDQ_89eci"
      }
    },
    {
      "cell_type": "code",
      "source": [
        "# Filtra chamados relacionados à 'Perturbação do sossego' e conta os registros entre 2022 e 2023.\n",
        "\n",
        "df_pertubacao_sossego = df_chamados_grandes_eventos[df_chamados_grandes_eventos[\"subtipo\"].str.contains(\"Perturbação do sossego\")]\n",
        "\n",
        "inicio = pd.to_datetime('2022-01-01')\n",
        "fim = pd.to_datetime('2023-12-31')\n",
        "\n",
        "df_filtrado = df_pertubacao_sossego[(df_pertubacao_sossego['data_inicio'] >= inicio) & (df_pertubacao_sossego['data_inicio'] <= fim)]\n",
        "\n",
        "num_chamados = df_filtrado.shape[0]\n",
        "\n",
        "print(f\"Entre o começo de 2022 e o final de 2023, foram registrados {num_chamados} chamados relacionados à 'Perturbação do sossego'.\")\n"
      ],
      "metadata": {
        "colab": {
          "base_uri": "https://localhost:8080/"
        },
        "id": "8drvsfrb9iMj",
        "outputId": "1e66cc78-eb50-4b51-99c8-2f6c2d8ffb8d"
      },
      "execution_count": 171,
      "outputs": [
        {
          "output_type": "stream",
          "name": "stdout",
          "text": [
            "Entre o começo de 2022 e o final de 2023, foram registrados 42830 chamados relacionados à 'Perturbação do sossego'.\n"
          ]
        }
      ]
    },
    {
      "cell_type": "markdown",
      "source": [
        "# 7. **Selecione os chamados com esse subtipo que foram abertos durante os eventos contidos na tabela de eventos (Reveillon, Carnaval e Rock in Rio).**"
      ],
      "metadata": {
        "id": "yqbTvshp9kE0"
      }
    },
    {
      "cell_type": "code",
      "source": [
        "# Lê dados sobre eventos de ocupação hoteleira e converte as colunas de datas para datetime.\n",
        "\n",
        "df_eventos = bd.read_sql(\"SELECT* FROM `datario.turismo_fluxo_visitantes.rede_hoteleira_ocupacao_eventos`\",\n",
        "                 billing_project_id = project_id)"
      ],
      "metadata": {
        "colab": {
          "base_uri": "https://localhost:8080/"
        },
        "id": "iAOmN1EG9mGz",
        "outputId": "5c644a52-e2c0-487d-ebda-91601c485d50"
      },
      "execution_count": 176,
      "outputs": [
        {
          "output_type": "stream",
          "name": "stderr",
          "text": [
            "Downloading: 100%|██████████| 8/8 [00:00<00:00, 37.81rows/s]\n"
          ]
        }
      ]
    },
    {
      "cell_type": "code",
      "source": [
        "df_eventos.drop_duplicates(inplace=True)\n",
        "df_eventos"
      ],
      "metadata": {
        "colab": {
          "base_uri": "https://localhost:8080/",
          "height": 175
        },
        "id": "rPm_MDG0FU6r",
        "outputId": "7d186513-1f1d-4a5f-cabd-50b8f58f9ef3"
      },
      "execution_count": 177,
      "outputs": [
        {
          "output_type": "execute_result",
          "data": {
            "text/plain": [
              "                            ano data_inicial  data_final       evento  \\\n",
              "0         02/09 a 04/09 de 2022   2022-09-02  2022-09-04  Rock in Rio   \n",
              "2         08/09 a 11/09 de 2022   2022-09-08  2022-09-11  Rock in Rio   \n",
              "4         18/02 a 21/02 de 2023   2023-02-18  2023-02-21     Carnaval   \n",
              "6  30-31/12 e 01/01 (2022-2023)   2022-12-30  2023-01-01    Reveillon   \n",
              "\n",
              "   taxa_ocupacao  \n",
              "0         0.8184  \n",
              "2         0.9451  \n",
              "4         0.9554  \n",
              "6         0.9251  "
            ],
            "text/html": [
              "\n",
              "  <div id=\"df-6cece400-704f-45b2-bd51-042ecdc78a97\" class=\"colab-df-container\">\n",
              "    <div>\n",
              "<style scoped>\n",
              "    .dataframe tbody tr th:only-of-type {\n",
              "        vertical-align: middle;\n",
              "    }\n",
              "\n",
              "    .dataframe tbody tr th {\n",
              "        vertical-align: top;\n",
              "    }\n",
              "\n",
              "    .dataframe thead th {\n",
              "        text-align: right;\n",
              "    }\n",
              "</style>\n",
              "<table border=\"1\" class=\"dataframe\">\n",
              "  <thead>\n",
              "    <tr style=\"text-align: right;\">\n",
              "      <th></th>\n",
              "      <th>ano</th>\n",
              "      <th>data_inicial</th>\n",
              "      <th>data_final</th>\n",
              "      <th>evento</th>\n",
              "      <th>taxa_ocupacao</th>\n",
              "    </tr>\n",
              "  </thead>\n",
              "  <tbody>\n",
              "    <tr>\n",
              "      <th>0</th>\n",
              "      <td>02/09 a 04/09 de 2022</td>\n",
              "      <td>2022-09-02</td>\n",
              "      <td>2022-09-04</td>\n",
              "      <td>Rock in Rio</td>\n",
              "      <td>0.8184</td>\n",
              "    </tr>\n",
              "    <tr>\n",
              "      <th>2</th>\n",
              "      <td>08/09 a 11/09 de 2022</td>\n",
              "      <td>2022-09-08</td>\n",
              "      <td>2022-09-11</td>\n",
              "      <td>Rock in Rio</td>\n",
              "      <td>0.9451</td>\n",
              "    </tr>\n",
              "    <tr>\n",
              "      <th>4</th>\n",
              "      <td>18/02 a 21/02 de 2023</td>\n",
              "      <td>2023-02-18</td>\n",
              "      <td>2023-02-21</td>\n",
              "      <td>Carnaval</td>\n",
              "      <td>0.9554</td>\n",
              "    </tr>\n",
              "    <tr>\n",
              "      <th>6</th>\n",
              "      <td>30-31/12 e 01/01 (2022-2023)</td>\n",
              "      <td>2022-12-30</td>\n",
              "      <td>2023-01-01</td>\n",
              "      <td>Reveillon</td>\n",
              "      <td>0.9251</td>\n",
              "    </tr>\n",
              "  </tbody>\n",
              "</table>\n",
              "</div>\n",
              "    <div class=\"colab-df-buttons\">\n",
              "\n",
              "  <div class=\"colab-df-container\">\n",
              "    <button class=\"colab-df-convert\" onclick=\"convertToInteractive('df-6cece400-704f-45b2-bd51-042ecdc78a97')\"\n",
              "            title=\"Convert this dataframe to an interactive table.\"\n",
              "            style=\"display:none;\">\n",
              "\n",
              "  <svg xmlns=\"http://www.w3.org/2000/svg\" height=\"24px\" viewBox=\"0 -960 960 960\">\n",
              "    <path d=\"M120-120v-720h720v720H120Zm60-500h600v-160H180v160Zm220 220h160v-160H400v160Zm0 220h160v-160H400v160ZM180-400h160v-160H180v160Zm440 0h160v-160H620v160ZM180-180h160v-160H180v160Zm440 0h160v-160H620v160Z\"/>\n",
              "  </svg>\n",
              "    </button>\n",
              "\n",
              "  <style>\n",
              "    .colab-df-container {\n",
              "      display:flex;\n",
              "      gap: 12px;\n",
              "    }\n",
              "\n",
              "    .colab-df-convert {\n",
              "      background-color: #E8F0FE;\n",
              "      border: none;\n",
              "      border-radius: 50%;\n",
              "      cursor: pointer;\n",
              "      display: none;\n",
              "      fill: #1967D2;\n",
              "      height: 32px;\n",
              "      padding: 0 0 0 0;\n",
              "      width: 32px;\n",
              "    }\n",
              "\n",
              "    .colab-df-convert:hover {\n",
              "      background-color: #E2EBFA;\n",
              "      box-shadow: 0px 1px 2px rgba(60, 64, 67, 0.3), 0px 1px 3px 1px rgba(60, 64, 67, 0.15);\n",
              "      fill: #174EA6;\n",
              "    }\n",
              "\n",
              "    .colab-df-buttons div {\n",
              "      margin-bottom: 4px;\n",
              "    }\n",
              "\n",
              "    [theme=dark] .colab-df-convert {\n",
              "      background-color: #3B4455;\n",
              "      fill: #D2E3FC;\n",
              "    }\n",
              "\n",
              "    [theme=dark] .colab-df-convert:hover {\n",
              "      background-color: #434B5C;\n",
              "      box-shadow: 0px 1px 3px 1px rgba(0, 0, 0, 0.15);\n",
              "      filter: drop-shadow(0px 1px 2px rgba(0, 0, 0, 0.3));\n",
              "      fill: #FFFFFF;\n",
              "    }\n",
              "  </style>\n",
              "\n",
              "    <script>\n",
              "      const buttonEl =\n",
              "        document.querySelector('#df-6cece400-704f-45b2-bd51-042ecdc78a97 button.colab-df-convert');\n",
              "      buttonEl.style.display =\n",
              "        google.colab.kernel.accessAllowed ? 'block' : 'none';\n",
              "\n",
              "      async function convertToInteractive(key) {\n",
              "        const element = document.querySelector('#df-6cece400-704f-45b2-bd51-042ecdc78a97');\n",
              "        const dataTable =\n",
              "          await google.colab.kernel.invokeFunction('convertToInteractive',\n",
              "                                                    [key], {});\n",
              "        if (!dataTable) return;\n",
              "\n",
              "        const docLinkHtml = 'Like what you see? Visit the ' +\n",
              "          '<a target=\"_blank\" href=https://colab.research.google.com/notebooks/data_table.ipynb>data table notebook</a>'\n",
              "          + ' to learn more about interactive tables.';\n",
              "        element.innerHTML = '';\n",
              "        dataTable['output_type'] = 'display_data';\n",
              "        await google.colab.output.renderOutput(dataTable, element);\n",
              "        const docLink = document.createElement('div');\n",
              "        docLink.innerHTML = docLinkHtml;\n",
              "        element.appendChild(docLink);\n",
              "      }\n",
              "    </script>\n",
              "  </div>\n",
              "\n",
              "\n",
              "<div id=\"df-09a66551-43a1-448e-9a20-f9e8452cf05b\">\n",
              "  <button class=\"colab-df-quickchart\" onclick=\"quickchart('df-09a66551-43a1-448e-9a20-f9e8452cf05b')\"\n",
              "            title=\"Suggest charts\"\n",
              "            style=\"display:none;\">\n",
              "\n",
              "<svg xmlns=\"http://www.w3.org/2000/svg\" height=\"24px\"viewBox=\"0 0 24 24\"\n",
              "     width=\"24px\">\n",
              "    <g>\n",
              "        <path d=\"M19 3H5c-1.1 0-2 .9-2 2v14c0 1.1.9 2 2 2h14c1.1 0 2-.9 2-2V5c0-1.1-.9-2-2-2zM9 17H7v-7h2v7zm4 0h-2V7h2v10zm4 0h-2v-4h2v4z\"/>\n",
              "    </g>\n",
              "</svg>\n",
              "  </button>\n",
              "\n",
              "<style>\n",
              "  .colab-df-quickchart {\n",
              "      --bg-color: #E8F0FE;\n",
              "      --fill-color: #1967D2;\n",
              "      --hover-bg-color: #E2EBFA;\n",
              "      --hover-fill-color: #174EA6;\n",
              "      --disabled-fill-color: #AAA;\n",
              "      --disabled-bg-color: #DDD;\n",
              "  }\n",
              "\n",
              "  [theme=dark] .colab-df-quickchart {\n",
              "      --bg-color: #3B4455;\n",
              "      --fill-color: #D2E3FC;\n",
              "      --hover-bg-color: #434B5C;\n",
              "      --hover-fill-color: #FFFFFF;\n",
              "      --disabled-bg-color: #3B4455;\n",
              "      --disabled-fill-color: #666;\n",
              "  }\n",
              "\n",
              "  .colab-df-quickchart {\n",
              "    background-color: var(--bg-color);\n",
              "    border: none;\n",
              "    border-radius: 50%;\n",
              "    cursor: pointer;\n",
              "    display: none;\n",
              "    fill: var(--fill-color);\n",
              "    height: 32px;\n",
              "    padding: 0;\n",
              "    width: 32px;\n",
              "  }\n",
              "\n",
              "  .colab-df-quickchart:hover {\n",
              "    background-color: var(--hover-bg-color);\n",
              "    box-shadow: 0 1px 2px rgba(60, 64, 67, 0.3), 0 1px 3px 1px rgba(60, 64, 67, 0.15);\n",
              "    fill: var(--button-hover-fill-color);\n",
              "  }\n",
              "\n",
              "  .colab-df-quickchart-complete:disabled,\n",
              "  .colab-df-quickchart-complete:disabled:hover {\n",
              "    background-color: var(--disabled-bg-color);\n",
              "    fill: var(--disabled-fill-color);\n",
              "    box-shadow: none;\n",
              "  }\n",
              "\n",
              "  .colab-df-spinner {\n",
              "    border: 2px solid var(--fill-color);\n",
              "    border-color: transparent;\n",
              "    border-bottom-color: var(--fill-color);\n",
              "    animation:\n",
              "      spin 1s steps(1) infinite;\n",
              "  }\n",
              "\n",
              "  @keyframes spin {\n",
              "    0% {\n",
              "      border-color: transparent;\n",
              "      border-bottom-color: var(--fill-color);\n",
              "      border-left-color: var(--fill-color);\n",
              "    }\n",
              "    20% {\n",
              "      border-color: transparent;\n",
              "      border-left-color: var(--fill-color);\n",
              "      border-top-color: var(--fill-color);\n",
              "    }\n",
              "    30% {\n",
              "      border-color: transparent;\n",
              "      border-left-color: var(--fill-color);\n",
              "      border-top-color: var(--fill-color);\n",
              "      border-right-color: var(--fill-color);\n",
              "    }\n",
              "    40% {\n",
              "      border-color: transparent;\n",
              "      border-right-color: var(--fill-color);\n",
              "      border-top-color: var(--fill-color);\n",
              "    }\n",
              "    60% {\n",
              "      border-color: transparent;\n",
              "      border-right-color: var(--fill-color);\n",
              "    }\n",
              "    80% {\n",
              "      border-color: transparent;\n",
              "      border-right-color: var(--fill-color);\n",
              "      border-bottom-color: var(--fill-color);\n",
              "    }\n",
              "    90% {\n",
              "      border-color: transparent;\n",
              "      border-bottom-color: var(--fill-color);\n",
              "    }\n",
              "  }\n",
              "</style>\n",
              "\n",
              "  <script>\n",
              "    async function quickchart(key) {\n",
              "      const quickchartButtonEl =\n",
              "        document.querySelector('#' + key + ' button');\n",
              "      quickchartButtonEl.disabled = true;  // To prevent multiple clicks.\n",
              "      quickchartButtonEl.classList.add('colab-df-spinner');\n",
              "      try {\n",
              "        const charts = await google.colab.kernel.invokeFunction(\n",
              "            'suggestCharts', [key], {});\n",
              "      } catch (error) {\n",
              "        console.error('Error during call to suggestCharts:', error);\n",
              "      }\n",
              "      quickchartButtonEl.classList.remove('colab-df-spinner');\n",
              "      quickchartButtonEl.classList.add('colab-df-quickchart-complete');\n",
              "    }\n",
              "    (() => {\n",
              "      let quickchartButtonEl =\n",
              "        document.querySelector('#df-09a66551-43a1-448e-9a20-f9e8452cf05b button');\n",
              "      quickchartButtonEl.style.display =\n",
              "        google.colab.kernel.accessAllowed ? 'block' : 'none';\n",
              "    })();\n",
              "  </script>\n",
              "</div>\n",
              "\n",
              "  <div id=\"id_266f832f-adc2-4034-8406-5e45d9b0c881\">\n",
              "    <style>\n",
              "      .colab-df-generate {\n",
              "        background-color: #E8F0FE;\n",
              "        border: none;\n",
              "        border-radius: 50%;\n",
              "        cursor: pointer;\n",
              "        display: none;\n",
              "        fill: #1967D2;\n",
              "        height: 32px;\n",
              "        padding: 0 0 0 0;\n",
              "        width: 32px;\n",
              "      }\n",
              "\n",
              "      .colab-df-generate:hover {\n",
              "        background-color: #E2EBFA;\n",
              "        box-shadow: 0px 1px 2px rgba(60, 64, 67, 0.3), 0px 1px 3px 1px rgba(60, 64, 67, 0.15);\n",
              "        fill: #174EA6;\n",
              "      }\n",
              "\n",
              "      [theme=dark] .colab-df-generate {\n",
              "        background-color: #3B4455;\n",
              "        fill: #D2E3FC;\n",
              "      }\n",
              "\n",
              "      [theme=dark] .colab-df-generate:hover {\n",
              "        background-color: #434B5C;\n",
              "        box-shadow: 0px 1px 3px 1px rgba(0, 0, 0, 0.15);\n",
              "        filter: drop-shadow(0px 1px 2px rgba(0, 0, 0, 0.3));\n",
              "        fill: #FFFFFF;\n",
              "      }\n",
              "    </style>\n",
              "    <button class=\"colab-df-generate\" onclick=\"generateWithVariable('df_eventos')\"\n",
              "            title=\"Generate code using this dataframe.\"\n",
              "            style=\"display:none;\">\n",
              "\n",
              "  <svg xmlns=\"http://www.w3.org/2000/svg\" height=\"24px\"viewBox=\"0 0 24 24\"\n",
              "       width=\"24px\">\n",
              "    <path d=\"M7,19H8.4L18.45,9,17,7.55,7,17.6ZM5,21V16.75L18.45,3.32a2,2,0,0,1,2.83,0l1.4,1.43a1.91,1.91,0,0,1,.58,1.4,1.91,1.91,0,0,1-.58,1.4L9.25,21ZM18.45,9,17,7.55Zm-12,3A5.31,5.31,0,0,0,4.9,8.1,5.31,5.31,0,0,0,1,6.5,5.31,5.31,0,0,0,4.9,4.9,5.31,5.31,0,0,0,6.5,1,5.31,5.31,0,0,0,8.1,4.9,5.31,5.31,0,0,0,12,6.5,5.46,5.46,0,0,0,6.5,12Z\"/>\n",
              "  </svg>\n",
              "    </button>\n",
              "    <script>\n",
              "      (() => {\n",
              "      const buttonEl =\n",
              "        document.querySelector('#id_266f832f-adc2-4034-8406-5e45d9b0c881 button.colab-df-generate');\n",
              "      buttonEl.style.display =\n",
              "        google.colab.kernel.accessAllowed ? 'block' : 'none';\n",
              "\n",
              "      buttonEl.onclick = () => {\n",
              "        google.colab.notebook.generateWithVariable('df_eventos');\n",
              "      }\n",
              "      })();\n",
              "    </script>\n",
              "  </div>\n",
              "\n",
              "    </div>\n",
              "  </div>\n"
            ],
            "application/vnd.google.colaboratory.intrinsic+json": {
              "type": "dataframe",
              "variable_name": "df_eventos",
              "summary": "{\n  \"name\": \"df_eventos\",\n  \"rows\": 4,\n  \"fields\": [\n    {\n      \"column\": \"ano\",\n      \"properties\": {\n        \"dtype\": \"string\",\n        \"num_unique_values\": 4,\n        \"samples\": [\n          \"08/09 a 11/09 de 2022\",\n          \"30-31/12 e 01/01 (2022-2023)\",\n          \"02/09 a 04/09 de 2022\"\n        ],\n        \"semantic_type\": \"\",\n        \"description\": \"\"\n      }\n    },\n    {\n      \"column\": \"data_inicial\",\n      \"properties\": {\n        \"dtype\": \"dbdate\",\n        \"num_unique_values\": 4,\n        \"samples\": [\n          \"2022-09-08\",\n          \"2022-12-30\",\n          \"2022-09-02\"\n        ],\n        \"semantic_type\": \"\",\n        \"description\": \"\"\n      }\n    },\n    {\n      \"column\": \"data_final\",\n      \"properties\": {\n        \"dtype\": \"dbdate\",\n        \"num_unique_values\": 4,\n        \"samples\": [\n          \"2022-09-11\",\n          \"2023-01-01\",\n          \"2022-09-04\"\n        ],\n        \"semantic_type\": \"\",\n        \"description\": \"\"\n      }\n    },\n    {\n      \"column\": \"evento\",\n      \"properties\": {\n        \"dtype\": \"string\",\n        \"num_unique_values\": 3,\n        \"samples\": [\n          \"Rock in Rio\",\n          \"Carnaval\",\n          \"Reveillon\"\n        ],\n        \"semantic_type\": \"\",\n        \"description\": \"\"\n      }\n    },\n    {\n      \"column\": \"taxa_ocupacao\",\n      \"properties\": {\n        \"dtype\": \"number\",\n        \"std\": 0.06300195764154212,\n        \"min\": 0.8184,\n        \"max\": 0.9554,\n        \"num_unique_values\": 4,\n        \"samples\": [\n          0.9451,\n          0.9251,\n          0.8184\n        ],\n        \"semantic_type\": \"\",\n        \"description\": \"\"\n      }\n    }\n  ]\n}"
            }
          },
          "metadata": {},
          "execution_count": 177
        }
      ]
    },
    {
      "cell_type": "code",
      "source": [
        "df_eventos['data_inicial'] = pd.to_datetime(df_eventos['data_inicial'])\n",
        "df_eventos['data_final'] = pd.to_datetime(df_eventos['data_final'])"
      ],
      "metadata": {
        "id": "jQ6DjEm8E61v"
      },
      "execution_count": 178,
      "outputs": []
    },
    {
      "cell_type": "code",
      "source": [
        "# df_eventos.loc[df_eventos.index[1], 'evento'] = 'Rock in Rio - A'\n",
        "# df_eventos.loc[df_eventos.index[2], 'evento'] = 'Rock in Rio - B'"
      ],
      "metadata": {
        "id": "HHvaIl7d-Zeo"
      },
      "execution_count": 175,
      "outputs": []
    },
    {
      "cell_type": "code",
      "source": [
        "def encontrar_evento(row):\n",
        "    for _, evento in df_eventos.iterrows():\n",
        "        if evento['data_inicial'] <= row['data_inicio'] <= evento['data_final']:\n",
        "            return evento['evento']\n",
        "        if pd.notna(row['data_fim']) and evento['data_inicial'] <= row['data_fim'] <= evento['data_final']:\n",
        "            return evento['evento']\n",
        "    return None\n",
        "\n",
        "df_pertubacao_sossego['evento'] = df_pertubacao_sossego.apply(encontrar_evento, axis=1)"
      ],
      "metadata": {
        "id": "oiIwTLyQ-2NZ"
      },
      "execution_count": 179,
      "outputs": []
    },
    {
      "cell_type": "code",
      "source": [
        "eventos_desejados = ['Carnaval', 'Reveillon', 'Rock in Rio']"
      ],
      "metadata": {
        "id": "gdW8EO9r_GjF"
      },
      "execution_count": 180,
      "outputs": []
    },
    {
      "cell_type": "code",
      "source": [
        "df_chamados_eventos = df_pertubacao_sossego[df_pertubacao_sossego['evento'].isin(eventos_desejados)]\n",
        "\n",
        "print(f'Foram no total {len(df_chamados_eventos)} chamados nos eventos: Carnaval, Reveillon, Rock in Rio')"
      ],
      "metadata": {
        "colab": {
          "base_uri": "https://localhost:8080/"
        },
        "id": "xBT5uEAG_EI-",
        "outputId": "7b260e7f-7d1d-4aea-de76-07d2a31dd3cd"
      },
      "execution_count": 181,
      "outputs": [
        {
          "output_type": "stream",
          "name": "stdout",
          "text": [
            "Foram no total 1938 chamados nos eventos: Carnaval, Reveillon, Rock in Rio\n"
          ]
        }
      ]
    },
    {
      "cell_type": "markdown",
      "source": [
        "# 8. **Quantos chamados desse subtipo foram abertos em cada evento?**"
      ],
      "metadata": {
        "id": "9umclKTtD1tk"
      }
    },
    {
      "cell_type": "code",
      "source": [
        "# Conta e imprime o número de chamados por evento específico.\n",
        "\n",
        "contagem_chamados_por_evento = df_chamados_eventos['evento'].value_counts()\n",
        "print(\"Número de chamados por evento:\")\n",
        "print(' ')\n",
        "print(contagem_chamados_por_evento)\n"
      ],
      "metadata": {
        "colab": {
          "base_uri": "https://localhost:8080/"
        },
        "id": "eZDv7YmcD42j",
        "outputId": "4e8a302a-7894-481c-9ca7-263785a43c03"
      },
      "execution_count": 182,
      "outputs": [
        {
          "output_type": "stream",
          "name": "stdout",
          "text": [
            "Número de chamados por evento:\n",
            " \n",
            "Rock in Rio    1491\n",
            "Reveillon       231\n",
            "Carnaval        216\n",
            "Name: evento, dtype: int64\n"
          ]
        }
      ]
    },
    {
      "cell_type": "markdown",
      "source": [
        "# 9. **Qual evento teve a maior média diária de chamados abertos desse subtipo?**"
      ],
      "metadata": {
        "id": "v7ykIzc0GS36"
      }
    },
    {
      "cell_type": "code",
      "source": [
        "# Calcula a duração dos eventos e a média diáia de chamados por evento.\n",
        "df_eventos['duracao'] = (df_eventos['data_final'] - df_eventos['data_inicial']).dt.days + 1\n",
        "\n",
        "# Calcula a média diária de chnados por evento.\n",
        "media_diaria_por_evento = df_chamados_eventos['evento'].value_counts() / df_eventos.set_index('evento')['duracao']"
      ],
      "metadata": {
        "id": "V1ZTr_2LGWoU"
      },
      "execution_count": 183,
      "outputs": []
    },
    {
      "cell_type": "code",
      "source": [
        "df_chamados_eventos['evento'].value_counts()"
      ],
      "metadata": {
        "colab": {
          "base_uri": "https://localhost:8080/",
          "height": 178
        },
        "id": "M4ONzbAaGeRy",
        "outputId": "4b793147-38ce-4b50-c9bd-5ffcc23fccb4"
      },
      "execution_count": 184,
      "outputs": [
        {
          "output_type": "execute_result",
          "data": {
            "text/plain": [
              "Rock in Rio    1491\n",
              "Reveillon       231\n",
              "Carnaval        216\n",
              "Name: evento, dtype: int64"
            ],
            "text/html": [
              "<div>\n",
              "<style scoped>\n",
              "    .dataframe tbody tr th:only-of-type {\n",
              "        vertical-align: middle;\n",
              "    }\n",
              "\n",
              "    .dataframe tbody tr th {\n",
              "        vertical-align: top;\n",
              "    }\n",
              "\n",
              "    .dataframe thead th {\n",
              "        text-align: right;\n",
              "    }\n",
              "</style>\n",
              "<table border=\"1\" class=\"dataframe\">\n",
              "  <thead>\n",
              "    <tr style=\"text-align: right;\">\n",
              "      <th></th>\n",
              "      <th>evento</th>\n",
              "    </tr>\n",
              "  </thead>\n",
              "  <tbody>\n",
              "    <tr>\n",
              "      <th>Rock in Rio</th>\n",
              "      <td>1491</td>\n",
              "    </tr>\n",
              "    <tr>\n",
              "      <th>Reveillon</th>\n",
              "      <td>231</td>\n",
              "    </tr>\n",
              "    <tr>\n",
              "      <th>Carnaval</th>\n",
              "      <td>216</td>\n",
              "    </tr>\n",
              "  </tbody>\n",
              "</table>\n",
              "</div><br><label><b>dtype:</b> int64</label>"
            ]
          },
          "metadata": {},
          "execution_count": 184
        }
      ]
    },
    {
      "cell_type": "code",
      "source": [
        "evento_maior_media = media_diaria_por_evento.idxmax()\n",
        "maior_media = media_diaria_por_evento.max()\n",
        "\n",
        "print(f\"O evento com a maior média diária de chmados 'Perturbação do Sossego' fpi {evento_maior_media} com {maior_media:.2f} chamados por dia.\")"
      ],
      "metadata": {
        "colab": {
          "base_uri": "https://localhost:8080/"
        },
        "id": "glGn9dBoGgmK",
        "outputId": "300ae0a0-c076-425c-99dc-a7e7d0fd3954"
      },
      "execution_count": 185,
      "outputs": [
        {
          "output_type": "stream",
          "name": "stdout",
          "text": [
            "O evento com a maior média diária de chmados 'Perturbação do Sossego' fpi Rock in Rio com 497.00 chamados por dia.\n"
          ]
        }
      ]
    },
    {
      "cell_type": "markdown",
      "source": [
        "# 10. **Compare as médias diárias de chamados abertos desse subtipo durante os eventos específicos (Reveillon, Carnaval e Rock in Rio) e a média diária de chamados abertos desse subtipo considerando todo o período de 01/01/2022 até 31/12/2023.**"
      ],
      "metadata": {
        "id": "NdbMcvuMGoug"
      }
    },
    {
      "cell_type": "code",
      "source": [
        "inicio_periodo = pd.to_datetime('2022-01-01')\n",
        "fim_periodo = pd.to_datetime('2023-12-31')\n",
        "periodo_total_dias = (fim_periodo - inicio_periodo).days\n",
        "total_chamados = df_pertubacao_sossego.shape[0]\n",
        "media_diaria_total = total_chamados / periodo_total_dias"
      ],
      "metadata": {
        "id": "j5GVQiNyGrWn"
      },
      "execution_count": 186,
      "outputs": []
    },
    {
      "cell_type": "code",
      "source": [
        "medias_diarias = pd.DataFrame(index=eventos_desejados + ['Total'], columns=['Media Diaria'])\n",
        "\n",
        "for evento in eventos_desejados:\n",
        "    duracao_evento = df_eventos[df_eventos['evento'] == evento]['duracao'].values[0]\n",
        "    num_chamados_evento = df_chamados_eventos[df_chamados_eventos['evento'] == evento].shape[0]\n",
        "    medias_diarias.loc[evento, 'Media Diaria'] = num_chamados_evento / duracao_evento\n",
        "\n",
        "medias_diarias.loc['Total', 'Media Diaria'] = media_diaria_total"
      ],
      "metadata": {
        "id": "wkQVZRziIBzj"
      },
      "execution_count": 187,
      "outputs": []
    },
    {
      "cell_type": "code",
      "source": [
        "for evento in eventos_desejados:\n",
        "    media_evento = medias_diarias.loc[evento, 'Media Diaria']\n",
        "    comparacao = \"maior\" if media_evento > media_diaria_total else \"menor\"\n",
        "    diferenca_percentual = abs(media_evento - media_diaria_total) / media_diaria_total * 100\n",
        "    print(f\"A média diária de chamados durante o {evento} foi {diferenca_percentual:.2f}% {comparacao} do que a média diária total.\")"
      ],
      "metadata": {
        "colab": {
          "base_uri": "https://localhost:8080/"
        },
        "id": "2vnO8s0-IE1B",
        "outputId": "57d942ee-59f7-4258-e641-a1700991e617"
      },
      "execution_count": 188,
      "outputs": [
        {
          "output_type": "stream",
          "name": "stdout",
          "text": [
            "A média diária de chamados durante o Carnaval foi 8.09% menor do que a média diária total.\n",
            "A média diária de chamados durante o Reveillon foi 31.06% maior do que a média diária total.\n",
            "A média diária de chamados durante o Rock in Rio foi 745.93% maior do que a média diária total.\n"
          ]
        }
      ]
    }
  ]
}