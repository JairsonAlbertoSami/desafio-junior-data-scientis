{
  "nbformat": 4,
  "nbformat_minor": 0,
  "metadata": {
    "colab": {
      "provenance": [],
      "authorship_tag": "ABX9TyNNYAbvZ+CYzU741RvREOQp",
      "include_colab_link": true
    },
    "kernelspec": {
      "name": "python3",
      "display_name": "Python 3"
    },
    "language_info": {
      "name": "python"
    }
  },
  "cells": [
    {
      "cell_type": "markdown",
      "metadata": {
        "id": "view-in-github",
        "colab_type": "text"
      },
      "source": [
        "<a href=\"https://colab.research.google.com/github/JairsonAlbertoSami/desafio-junior-data-scientist/blob/main/Analise_api.ipynb\" target=\"_parent\"><img src=\"https://colab.research.google.com/assets/colab-badge.svg\" alt=\"Open In Colab\"/></a>"
      ]
    },
    {
      "cell_type": "markdown",
      "source": [
        "# Desafio Técnico - Cientista de Dados Júnior - Rio de Janeiro\n",
        "\n",
        "Este código foi desenvolvido como parte do desafio técnico para a posição de **Cientista de Dados Júnior** no **Rio de Janeiro**. O objetivo deste desafio é demonstrar habilidades em manipulação e análise de dados python e integração com APIs.\n"
      ],
      "metadata": {
        "id": "9KZSS3JgMHnJ"
      }
    },
    {
      "cell_type": "markdown",
      "source": [
        "## Integração com APIs: Feriados e Tempo\n",
        "\n",
        "### Utilize as APIs públicas abaixo para responder às questões 1-8:\n",
        "- [Public Holiday API](https://date.nager.at/Api)\n",
        "- [Open-Meteo Historical Weather API](https://open-meteo.com/)\n"
      ],
      "metadata": {
        "id": "5ca16RWLMOwZ"
      }
    },
    {
      "cell_type": "code",
      "source": [
        "# Deleta as saidas da execução\n",
        "\n",
        "from IPython.display import clear_output"
      ],
      "metadata": {
        "id": "zxpOmpBEK5Xt"
      },
      "execution_count": 30,
      "outputs": []
    },
    {
      "cell_type": "code",
      "source": [
        "# Instala a biblioteca requisições HTTP\n",
        "\n",
        "!pip install requests\n",
        "clear_output()"
      ],
      "metadata": {
        "id": "pFGAtkVoMNjK"
      },
      "execution_count": 31,
      "outputs": []
    },
    {
      "cell_type": "code",
      "source": [
        "# importar bibliotecas necessárias\n",
        "import requests\n",
        "import datetime\n",
        "import json"
      ],
      "metadata": {
        "id": "cuKQ5-fYMUNg"
      },
      "execution_count": 32,
      "outputs": []
    },
    {
      "cell_type": "markdown",
      "source": [
        "# 1.  **Quantos feriados há no Brasil em todo o ano de 2024?**"
      ],
      "metadata": {
        "id": "IKf8YzCpMXrx"
      }
    },
    {
      "cell_type": "code",
      "source": [
        "# Faz requisição à API e imprime o número de feriados.\n",
        "\n",
        "response = requests.get('https://date.nager.at/api/v3/PublicHolidays/2024/BR')\n",
        "\n",
        "if response.status_code == 200:\n",
        "    holidays = response.json()\n",
        "    print(f\"Número total de feriados no Brasil em 2024: {len(holidays)}\")\n",
        "    print(\" \")\n",
        "    for holiday in holidays:\n",
        "        print(f\"{holiday['date']}: {holiday['localName']}\")\n",
        "else:\n",
        "    print(f\"Erro ao acesar a API: {response.status_code}\")"
      ],
      "metadata": {
        "colab": {
          "base_uri": "https://localhost:8080/"
        },
        "id": "5H3q5ZwvMrBx",
        "outputId": "b31cf66b-67fd-4548-af75-58936462643f"
      },
      "execution_count": 33,
      "outputs": [
        {
          "output_type": "stream",
          "name": "stdout",
          "text": [
            "Número total de feriados no Brasil em 2024: 14\n",
            " \n",
            "2024-01-01: Confraternização Universal\n",
            "2024-02-12: Carnaval\n",
            "2024-02-13: Carnaval\n",
            "2024-03-29: Sexta-feira Santa\n",
            "2024-03-31: Domingo de Páscoa\n",
            "2024-04-21: Dia de Tiradentes\n",
            "2024-05-01: Dia do Trabalhador\n",
            "2024-05-30: Corpus Christi\n",
            "2024-07-09: Revolução Constitucionalista de 1932\n",
            "2024-09-07: Dia da Independência\n",
            "2024-10-12: Nossa Senhora Aparecida\n",
            "2024-11-02: Dia de Finados\n",
            "2024-11-15: Proclamação da República\n",
            "2024-12-25: Natal\n"
          ]
        }
      ]
    },
    {
      "cell_type": "markdown",
      "source": [
        "# 2. **Qual mês de 2024 tem o maior número de feriados?**"
      ],
      "metadata": {
        "id": "HePA4CDBMv_w"
      }
    },
    {
      "cell_type": "code",
      "source": [
        "# Conta feridos por mês e identifica o mês com mais feriados, se no caso há empate de feriados mostra todos.\n",
        "\n",
        "if response.status_code == 200:\n",
        "    holidays = response.json()\n",
        "    months = {}\n",
        "    for holiday in holidays:\n",
        "        month = holiday['date'][5:7]\n",
        "        if month not in months:\n",
        "            months[month] = 0\n",
        "        months[month] += 1\n",
        "    max_count = max(months.values())\n",
        "    max_months = [month for month, count in months.items() if count == max_count]\n",
        "    if len(max_months) == 1:\n",
        "        print(f\"O mês com mais feriados em 2024 é: {max_months[0]} ({max_count} feriados)\")\n",
        "    else:\n",
        "        print(f\"Os meses com mis feriados em 2024 são: {', '.join(max_months)} ({max_count} feriados cada)\")\n",
        "else:\n",
        "    print(f\"Erro ao acessar a API: {response.status_code}\")"
      ],
      "metadata": {
        "colab": {
          "base_uri": "https://localhost:8080/"
        },
        "id": "VKy1OQMTMxag",
        "outputId": "81ee5695-ee5f-487d-885f-c99a120d77f2"
      },
      "execution_count": 34,
      "outputs": [
        {
          "output_type": "stream",
          "name": "stdout",
          "text": [
            "Os meses com mis feriados em 2024 são: 02, 03, 05, 11 (2 feriados cada)\n"
          ]
        }
      ]
    },
    {
      "cell_type": "markdown",
      "source": [
        "# 3. **Quantos feriados em 2024 caem em dias de semana (segunda a sexta-feira)?**"
      ],
      "metadata": {
        "id": "c2XpeUK8M2zA"
      }
    },
    {
      "cell_type": "code",
      "source": [
        "# Conta feriados que caem em dias de uteis.\n",
        "\n",
        "if response.status_code == 200:\n",
        "    holidays = response.json()\n",
        "    weekday_holidays = 0\n",
        "    for holiday in holidays:\n",
        "        date = holiday['date']\n",
        "        day_of_week = datetime.datetime.strptime(date, '%Y-%m-%d').weekday()\n",
        "        if day_of_week < 5:\n",
        "            weekday_holidays += 1\n",
        "    print(f\"Número de feriados em dias de semana em 2024: {weekday_holidays}\")\n",
        "else:\n",
        "    print(f\"Erro ao acessar a API: {response.status_code}\")\n"
      ],
      "metadata": {
        "colab": {
          "base_uri": "https://localhost:8080/"
        },
        "id": "nASqn0QdM5sR",
        "outputId": "9e07cc53-b479-4f59-bb99-f41883a39199"
      },
      "execution_count": 35,
      "outputs": [
        {
          "output_type": "stream",
          "name": "stdout",
          "text": [
            "Número de feriados em dias de semana em 2024: 9\n"
          ]
        }
      ]
    },
    {
      "cell_type": "markdown",
      "source": [
        "# 4. **Qual foi a temperatura média em cada mês?**\n",
        "Utilize a Open-Meteo Historical Weather API para obter as temperaturas médias diárias no Rio de Janeiro de 01/01/2024 a 01/08/2024\n",
        "\n",
        "- [Open-Meteo Historical Weather API](https://open-meteo.com/)"
      ],
      "metadata": {
        "id": "uiI_AYx2M9oX"
      }
    },
    {
      "cell_type": "code",
      "source": [
        "# Define as datas e a localização com o url\n",
        "\n",
        "start_date = '2024-01-01'\n",
        "end_date = '2024-08-01'\n",
        "latitude = -22.9068  # Lat do RJ\n",
        "longitude = -43.1729  # Long do RJ\n",
        "\n",
        "url = (\n",
        "    f'https://archive-api.open-meteo.com/v1/archive?latitude={latitude}'\n",
        "    f'&longitude={longitude}&start_date={start_date}&end_date={end_date}'\n",
        "    f'&daily=temperature_2m_mean&timezone=America%2FSao_Paulo')\n",
        "\n",
        "response = requests.get(url)"
      ],
      "metadata": {
        "id": "z5YhTGjcEPoa"
      },
      "execution_count": 36,
      "outputs": []
    },
    {
      "cell_type": "code",
      "source": [
        "# Obter dados históricos do clima e calculara média para cada mês.\n",
        "\n",
        "if response.status_code == 200:\n",
        "    data = response.json()\n",
        "    temperatures = data['daily']['temperature_2m_mean']\n",
        "    dates = data['daily']['time']\n",
        "\n",
        "    monthly_temperatures = {}\n",
        "    for date, temp in zip(dates, temperatures):\n",
        "        month = date[5:7]\n",
        "        if month not in monthly_temperatures:\n",
        "            monthly_temperatures[month] = []\n",
        "        monthly_temperatures[month].append(temp)\n",
        "\n",
        "    for month, temps in monthly_temperatures.items():\n",
        "        average_temp = sum(temps) / len(temps)\n",
        "        print(f\"Temperatura média em {month}/2024: {average_temp:.2f}°C\")\n",
        "else:\n",
        "    print(f\"Erro ao acessar a API: {response.status_code}\")"
      ],
      "metadata": {
        "colab": {
          "base_uri": "https://localhost:8080/"
        },
        "id": "cfaxp6ENEblQ",
        "outputId": "d1506d4c-9376-4406-b819-07a64f7a03e8"
      },
      "execution_count": 37,
      "outputs": [
        {
          "output_type": "stream",
          "name": "stdout",
          "text": [
            "Temperatura média em 01/2024: 26.70°C\n",
            "Temperatura média em 02/2024: 27.20°C\n",
            "Temperatura média em 03/2024: 26.42°C\n",
            "Temperatura média em 04/2024: 25.17°C\n",
            "Temperatura média em 05/2024: 24.99°C\n",
            "Temperatura média em 06/2024: 22.64°C\n",
            "Temperatura média em 07/2024: 21.11°C\n",
            "Temperatura média em 08/2024: 21.20°C\n"
          ]
        }
      ]
    },
    {
      "cell_type": "markdown",
      "source": [
        "5. # **Qual foi o tempo predominante em cada mês nesse período?**  \n",
        "   Utilize como referência para o código de tempo (_weather_code_) o seguinte link: [WMO Code](https://gist.github.com/stellasphere/9490c195ed2b53c707087c8c2db4ec0c).\n"
      ],
      "metadata": {
        "id": "x0H-p3O5ExQC"
      }
    },
    {
      "cell_type": "code",
      "source": [
        "# Faz requisição  pra dados meteorologicos e carregar\n",
        "\n",
        "gist_url = 'https://gist.githubusercontent.com/stellasphere/9490c195ed2b53c707087c8c2db4ec0c/raw/'\n",
        "\n",
        "response = requests.get(gist_url)\n",
        "if response.status_code == 200:\n",
        "    weather_data = json.loads(response.text)\n",
        "else:\n",
        "    print(f\"Erro ao acessar o Gist: {response.status_code}\")"
      ],
      "metadata": {
        "id": "xRQkRKBlEzEx"
      },
      "execution_count": 38,
      "outputs": []
    },
    {
      "cell_type": "code",
      "source": [
        "# Faz requisição  pra dados de clima diários.,\n",
        "\n",
        "url = (f'https://archive-api.open-meteo.com/v1/archive?latitude={latitude}'\n",
        "       f'&longitude={longitude}&start_date={start_date}&end_date={end_date}'\n",
        "       f'&daily=weathercode&timezone=America%2FSao_Paulo')\n",
        "\n",
        "response = requests.get(url)"
      ],
      "metadata": {
        "id": "n9dxG1V4E47P"
      },
      "execution_count": 39,
      "outputs": []
    },
    {
      "cell_type": "code",
      "source": [
        "if response.status_code == 200:\n",
        "    data = response.json()\n",
        "    weather_codes = data['daily']['weathercode']\n",
        "    dates = data['daily']['time']\n",
        "\n",
        "    # Agrupa os códigos de clima por mês\n",
        "\n",
        "    monthly_weather_codes = {}\n",
        "    for date, code in zip(dates, weather_codes):\n",
        "        month = date[5:7]\n",
        "        if month not in monthly_weather_codes:\n",
        "            monthly_weather_codes[month] = []\n",
        "        monthly_weather_codes[month].append(code)\n",
        "\n",
        "    # Determina o código de clima predominan por mês e imprime a descrição através do WMO Code.\n",
        "    for month, codes in monthly_weather_codes.items():\n",
        "        predominant_code = max(set(codes), key=codes.count)\n",
        "        if str(predominant_code) in weather_data:\n",
        "            description = weather_data[str(predominant_code)]['day']['description']\n",
        "        else:\n",
        "            description = \"Código desconhecido\"\n",
        "\n",
        "        print(f\"Tempo predominante em {month}/2024: {description}, com código WMO Code {predominant_code}\")\n",
        "else:\n",
        "    print(f\"Erro ao acessar a API: {response.status_code}\")\n"
      ],
      "metadata": {
        "colab": {
          "base_uri": "https://localhost:8080/"
        },
        "id": "8tUa_h23FUGT",
        "outputId": "6407e353-3366-477e-fc55-b9f53df7659a"
      },
      "execution_count": 40,
      "outputs": [
        {
          "output_type": "stream",
          "name": "stdout",
          "text": [
            "Tempo predominante em 01/2024: Rain, com código WMO Code 63\n",
            "Tempo predominante em 02/2024: Light Drizzle, com código WMO Code 51\n",
            "Tempo predominante em 03/2024: Light Drizzle, com código WMO Code 51\n",
            "Tempo predominante em 04/2024: Cloudy, com código WMO Code 3\n",
            "Tempo predominante em 05/2024: Light Drizzle, com código WMO Code 51\n",
            "Tempo predominante em 06/2024: Mainly Sunny, com código WMO Code 1\n",
            "Tempo predominante em 07/2024: Cloudy, com código WMO Code 3\n",
            "Tempo predominante em 08/2024: Partly Cloudy, com código WMO Code 2\n"
          ]
        }
      ]
    },
    {
      "cell_type": "markdown",
      "source": [
        "# 6. **Qual foi o tempo e a temperatura média em cada feriado de 01/01/2024 a 01/08/2024?**\n"
      ],
      "metadata": {
        "id": "bkbfDJgiFlNW"
      }
    },
    {
      "cell_type": "code",
      "source": [
        "# # Faz uma requisição para obter a temperatura média e códigos de clima diários.\n",
        "\n",
        "url_weather = (f'https://archive-api.open-meteo.com/v1/archive?latitude={latitude}'\n",
        "              f'&longitude={longitude}&start_date={start_date}&end_date={end_date}'\n",
        "              f'&daily=temperature_2m_mean,weathercode&timezone=America%2FSao_Paulo')\n",
        "\n",
        "response_weather = requests.get(url_weather)"
      ],
      "metadata": {
        "id": "iKAE7eOqFqjO"
      },
      "execution_count": 41,
      "outputs": []
    },
    {
      "cell_type": "code",
      "source": [
        "# Verifica se a requisição, contrário inicializar litas vazias.\n",
        "\n",
        "if response_weather.status_code == 200:\n",
        "    data_weather = response_weather.json()\n",
        "    temperatures = data_weather['daily']['temperature_2m_mean']\n",
        "    weather_codes = data_weather['daily']['weathercode']\n",
        "    dates = data_weather['daily']['time']\n",
        "else:\n",
        "    print(f\"Erro ao acessar a API de clima: {response_weather.status_code}\")\n",
        "    temperatures = []\n",
        "    weather_codes = []\n",
        "    dates = []"
      ],
      "metadata": {
        "id": "Yahsk90HFoOn"
      },
      "execution_count": 42,
      "outputs": []
    },
    {
      "cell_type": "code",
      "source": [
        "# Itera sobre feriados  e encontra a temperatura e o clima correspondente\n",
        "#\n",
        "for holiday in holidays:\n",
        "    holiday_date = holiday['date']\n",
        "    if holiday_date in dates:\n",
        "        index = dates.index(holiday_date)\n",
        "        temperature = temperatures[index]\n",
        "        weather_code = weather_codes[index]\n",
        "\n",
        "        if str(weather_code) in weather_data:\n",
        "            weather_description = weather_data[str(weather_code)]['day']['description']\n",
        "        else:\n",
        "            weather_description = \"Código desconhecido\"\n",
        "        print(f\"{holiday_date} ({holiday['localName']}): Temperatura média: {temperature:.2f}°C, Tempo: {weather_description}\")\n"
      ],
      "metadata": {
        "colab": {
          "base_uri": "https://localhost:8080/"
        },
        "id": "WFLqzSGuGbkb",
        "outputId": "63b98a09-0593-4642-b3e5-808c80cd6137"
      },
      "execution_count": 43,
      "outputs": [
        {
          "output_type": "stream",
          "name": "stdout",
          "text": [
            "2024-01-01 (Confraternização Universal): Temperatura média: 24.90°C, Tempo: Light Drizzle\n",
            "2024-02-12 (Carnaval): Temperatura média: 30.20°C, Tempo: Mainly Sunny\n",
            "2024-02-13 (Carnaval): Temperatura média: 30.50°C, Tempo: Light Drizzle\n",
            "2024-03-29 (Sexta-feira Santa): Temperatura média: 25.00°C, Tempo: Light Rain\n",
            "2024-03-31 (Domingo de Páscoa): Temperatura média: 24.50°C, Tempo: Drizzle\n",
            "2024-04-21 (Dia de Tiradentes): Temperatura média: 23.10°C, Tempo: Partly Cloudy\n",
            "2024-05-01 (Dia do Trabalhador): Temperatura média: 28.10°C, Tempo: Sunny\n",
            "2024-05-30 (Corpus Christi): Temperatura média: 20.80°C, Tempo: Light Drizzle\n",
            "2024-07-09 (Revolução Constitucionalista de 1932): Temperatura média: 21.50°C, Tempo: Drizzle\n"
          ]
        }
      ]
    },
    {
      "cell_type": "markdown",
      "source": [
        "7. **Considere as seguintes suposições:**\n",
        "   - O cidadão carioca considera \"frio\" um dia cuja temperatura média é menor que 20ºC;\n",
        "   - Um feriado bem aproveitado no Rio de Janeiro é aquele em que se pode ir à praia;\n",
        "   - O cidadão carioca só vai à praia quando não está com frio;\n",
        "   - O cidadão carioca também só vai à praia em dias com sol, evitando dias **totalmente** nublados ou chuvosos (considere _weather_code_ para determinar as condições climáticas).\n",
        "\n",
        "   Houve algum feriado \"não aproveitável\" em 2024? Se sim, qual(is)?"
      ],
      "metadata": {
        "id": "OTW7n7JXL_y5"
      }
    },
    {
      "cell_type": "markdown",
      "source": [
        "# ***Resposta: 7***"
      ],
      "metadata": {
        "id": "PCLJQU5aMFix"
      }
    },
    {
      "cell_type": "markdown",
      "source": [
        "Em 2024, considerando a cultura carioca e as condições climáticas, alguns feriados foram considerados \"não aproveitáveis\" para ir à praia.\n",
        "\n",
        "Os cariocas tendem a aproveitar feriados longos, especialmente se caírem em uma sexta-feira ou segunda-feire, dito feriadão, pois permitem mais tempo para lazer e descanso. No entanto, a possibilidade de ir à praia é limitada por fatores como temperatura e condições climáticas.\n",
        "\n",
        "Feriados como o Confraternização Universal (01/01) e Corpus Christi (30/05) apresentaram condições de Light Drizzle e temperaturas relativamente baixas, o que não favoreceu a ida à praia. O Carnaval (13/02) e o Domingo de Páscoa (31/03) também tiveram condições de\n",
        " Drizzle ou Light Drizzle, tornando-os menos propícios para aproveitar a praia. Feriados como a Sexta-feira Santa (29/03) e Dia de Tiradentes (21/04) tiveram temperaturas agradáveis, mas o tempo Light Rain ou Partly Cloudy limitou as atividades ao ar livre.\n",
        "\n",
        "Portanto, apesar de alguns feriados coincidirem com finais de semana prolongados, as condições climáticas desfavoráveis fizeram com que a maioria dos feriados não fosse ideal para a tradicional ida à praia carioca."
      ],
      "metadata": {
        "id": "f-w58qPhMHXl"
      }
    },
    {
      "cell_type": "markdown",
      "source": [
        "# 8. **Qual foi o feriado \"mais aproveitável\" de 2024?**  \n",
        "   Considere o melhor par tempo e temperatura."
      ],
      "metadata": {
        "id": "4vmEf-71MKFf"
      }
    },
    {
      "cell_type": "markdown",
      "source": [
        "# ***Resposta: 8***"
      ],
      "metadata": {
        "id": "DnLoLTqBMSxn"
      }
    },
    {
      "cell_type": "markdown",
      "source": [
        "O Carnaval (12/02 e 13/02) é um evento culturalmente significativo no Rio de Janeiro. No dia 12, a temperatura foi bastante agradável (30.20°C) e o tempo foi predominantemente Mainly Sunny. No dia 13, que também é feriado de Carnaval, a temperatura foi igualmente alta (30.50°C), mas com Light Drizzle. Apesar das condições climáticas não serem ideais para a praia no segundo dia, a celebração e a importância do Carnaval fazem com que esse feriado seja muito valorizado pelos cariocas.\n",
        "\n",
        "Portanto, mesmo que as condições climáticas do dia 13 não fossem perfeitas para a praia, a relevância cultural e a celebração do Carnaval fazem com que o feriado seja considerado altamente aproveitável para a maioria dos cariocas. Assim, podemos concluir que o Carnaval (12/02 e 13/02) é o feriado mais aproveitável de 2024, levando em conta a importância cultural e a combinação de temperatura alta e predominância de Mainly Sunny no primeiro dia.\n",
        "\n",
        "No entanto, se considerarmos apenas as condições climáticas ideais para um dia de praia, o Dia do Trabalhador (01/05), com uma temperatura média de 28.10°C e tempo ensolarado (Sunny), oferece as melhores condições para aproveitar a praia no Rio de Janeiro.\n",
        "\n",
        "\n",
        "\n",
        "\n",
        "\n"
      ],
      "metadata": {
        "id": "VQLRq_b5MUpi"
      }
    }
  ]
}