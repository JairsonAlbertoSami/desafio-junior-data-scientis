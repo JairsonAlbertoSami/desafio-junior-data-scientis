{
  "nbformat": 4,
  "nbformat_minor": 0,
  "metadata": {
    "colab": {
      "provenance": [],
      "authorship_tag": "ABX9TyPkyRXp/H3pDVA7vkHkQdz/",
      "include_colab_link": true
    },
    "kernelspec": {
      "name": "python3",
      "display_name": "Python 3"
    },
    "language_info": {
      "name": "python"
    }
  },
  "cells": [
    {
      "cell_type": "markdown",
      "metadata": {
        "id": "view-in-github",
        "colab_type": "text"
      },
      "source": [
        "<a href=\"https://colab.research.google.com/github/JairsonAlbertoSami/desafio-junior-data-scientis/blob/main/Analise_api.ipynb\" target=\"_parent\"><img src=\"https://colab.research.google.com/assets/colab-badge.svg\" alt=\"Open In Colab\"/></a>"
      ]
    },
    {
      "cell_type": "markdown",
      "source": [
        "# Desafio Técnico - Cientista de Dados Júnior - Rio de Janeiro\n",
        "\n",
        "Este código foi desenvolvido como parte do desafio técnico para a posição de **Cientista de Dados Júnior** no **Rio de Janeiro**. O objetivo deste desafio é demonstrar habilidades em manipulação e análise de dados python e integração com APIs.\n"
      ],
      "metadata": {
        "id": "9KZSS3JgMHnJ"
      }
    },
    {
      "cell_type": "markdown",
      "source": [
        "## Integração com APIs: Feriados e Tempo\n",
        "\n",
        "### Utilize as APIs públicas abaixo para responder às questões 1-8:\n",
        "- [Public Holiday API](https://date.nager.at/Api)\n",
        "- [Open-Meteo Historical Weather API](https://open-meteo.com/)\n"
      ],
      "metadata": {
        "id": "5ca16RWLMOwZ"
      }
    },
    {
      "cell_type": "code",
      "source": [
        "!pip install requests"
      ],
      "metadata": {
        "colab": {
          "base_uri": "https://localhost:8080/"
        },
        "id": "pFGAtkVoMNjK",
        "outputId": "ab387a6f-2c59-401d-872b-527bae0f024e"
      },
      "execution_count": 2,
      "outputs": [
        {
          "output_type": "stream",
          "name": "stdout",
          "text": [
            "Requirement already satisfied: requests in /usr/local/lib/python3.10/dist-packages (2.32.3)\n",
            "Requirement already satisfied: charset-normalizer<4,>=2 in /usr/local/lib/python3.10/dist-packages (from requests) (3.3.2)\n",
            "Requirement already satisfied: idna<4,>=2.5 in /usr/local/lib/python3.10/dist-packages (from requests) (3.7)\n",
            "Requirement already satisfied: urllib3<3,>=1.21.1 in /usr/local/lib/python3.10/dist-packages (from requests) (2.0.7)\n",
            "Requirement already satisfied: certifi>=2017.4.17 in /usr/local/lib/python3.10/dist-packages (from requests) (2024.7.4)\n"
          ]
        }
      ]
    },
    {
      "cell_type": "code",
      "source": [
        "import requests\n",
        "import datetime\n",
        "import json"
      ],
      "metadata": {
        "id": "cuKQ5-fYMUNg"
      },
      "execution_count": 3,
      "outputs": []
    },
    {
      "cell_type": "markdown",
      "source": [
        "# 1.  **Quantos feriados há no Brasil em todo o ano de 2024?**"
      ],
      "metadata": {
        "id": "IKf8YzCpMXrx"
      }
    },
    {
      "cell_type": "code",
      "source": [
        "response = requests.get('https://date.nager.at/api/v3/PublicHolidays/2024/BR')\n",
        "\n",
        "if response.status_code == 200:\n",
        "    holidays = response.json()\n",
        "    print(f\"Número total de feriados no Brasil em 2024: {len(holidays)}\")\n",
        "    print(\" \")\n",
        "    for holiday in holidays:\n",
        "        print(f\"{holiday['date']}: {holiday['localName']}\")\n",
        "else:\n",
        "    print(f\"Erro ao acesar a API: {response.status_code}\")"
      ],
      "metadata": {
        "colab": {
          "base_uri": "https://localhost:8080/"
        },
        "id": "5H3q5ZwvMrBx",
        "outputId": "677414e1-4c4f-4987-b5d9-e89b5f83bb5f"
      },
      "execution_count": 12,
      "outputs": [
        {
          "output_type": "stream",
          "name": "stdout",
          "text": [
            "Número total de feriados no Brasil em 2024: 14\n",
            " \n",
            "2024-01-01: Confraternização Universal\n",
            "2024-02-12: Carnaval\n",
            "2024-02-13: Carnaval\n",
            "2024-03-29: Sexta-feira Santa\n",
            "2024-03-31: Domingo de Páscoa\n",
            "2024-04-21: Dia de Tiradentes\n",
            "2024-05-01: Dia do Trabalhador\n",
            "2024-05-30: Corpus Christi\n",
            "2024-07-09: Revolução Constitucionalista de 1932\n",
            "2024-09-07: Dia da Independência\n",
            "2024-10-12: Nossa Senhora Aparecida\n",
            "2024-11-02: Dia de Finados\n",
            "2024-11-15: Proclamação da República\n",
            "2024-12-25: Natal\n"
          ]
        }
      ]
    },
    {
      "cell_type": "markdown",
      "source": [
        "# 2. **Qual mês de 2024 tem o maior número de feriados?**"
      ],
      "metadata": {
        "id": "HePA4CDBMv_w"
      }
    },
    {
      "cell_type": "code",
      "source": [
        "if response.status_code == 200:\n",
        "    holidays = response.json()\n",
        "    months = {}\n",
        "    for holiday in holidays:\n",
        "        month = holiday['date'][5:7]\n",
        "        if month not in months:\n",
        "            months[month] = 0\n",
        "        months[month] += 1\n",
        "    max_count = max(months.values())\n",
        "    max_months = [month for month, count in months.items() if count == max_count]\n",
        "    if len(max_months) == 1:\n",
        "        print(f\"O mês com mais feriados em 2024 é: {max_months[0]} ({max_count} feriados)\")\n",
        "    else:\n",
        "        print(f\"Os meses com mis feriados em 2024 são: {', '.join(max_months)} ({max_count} feriados cada)\")\n",
        "else:\n",
        "    print(f\"Erro ao acessar a API: {response.status_code}\")"
      ],
      "metadata": {
        "colab": {
          "base_uri": "https://localhost:8080/"
        },
        "id": "VKy1OQMTMxag",
        "outputId": "5b03aa83-7e28-49e7-876c-47c1584587d0"
      },
      "execution_count": 13,
      "outputs": [
        {
          "output_type": "stream",
          "name": "stdout",
          "text": [
            "Os meses com mis feriados em 2024 são: 02, 03, 05, 11 (2 feriados cada)\n"
          ]
        }
      ]
    },
    {
      "cell_type": "markdown",
      "source": [
        "# 3. **Quantos feriados em 2024 caem em dias de semana (segunda a sexta-feira)?**"
      ],
      "metadata": {
        "id": "c2XpeUK8M2zA"
      }
    },
    {
      "cell_type": "code",
      "source": [
        "if response.status_code == 200:\n",
        "    holidays = response.json()\n",
        "    weekday_holidays = 0\n",
        "    for holiday in holidays:\n",
        "        date = holiday['date']\n",
        "        day_of_week = datetime.datetime.strptime(date, '%Y-%m-%d').weekday()\n",
        "        if day_of_week < 5:\n",
        "            weekday_holidays += 1\n",
        "    print(f\"Número de feriados em dias de semana em 2024: {weekday_holidays}\")\n",
        "else:\n",
        "    print(f\"Erro ao acessar a API: {response.status_code}\")\n"
      ],
      "metadata": {
        "colab": {
          "base_uri": "https://localhost:8080/"
        },
        "id": "nASqn0QdM5sR",
        "outputId": "360bb92c-1252-4ca6-f62a-1a3a424d84e8"
      },
      "execution_count": 14,
      "outputs": [
        {
          "output_type": "stream",
          "name": "stdout",
          "text": [
            "Número de feriados em dias de semana em 2024: 9\n"
          ]
        }
      ]
    },
    {
      "cell_type": "markdown",
      "source": [
        "# 4. **Qual foi a temperatura média em cada mês?**\n",
        "Utilize a Open-Meteo Historical Weather API para obter as temperaturas médias diárias no Rio de Janeiro de 01/01/2024 a 01/08/2024\n",
        "\n",
        "- [Open-Meteo Historical Weather API](https://open-meteo.com/)"
      ],
      "metadata": {
        "id": "uiI_AYx2M9oX"
      }
    }
  ]
}